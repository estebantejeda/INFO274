{
 "cells": [
  {
   "cell_type": "code",
   "execution_count": 1,
   "id": "ee6c2e7a",
   "metadata": {},
   "outputs": [],
   "source": [
    "%load_ext autoreload\n",
    "%autoreload 2\n",
    "%matplotlib inline\n",
    "\n",
    "import matplotlib.pyplot as plt\n",
    "import numpy as np\n",
    "import pickle\n",
    "import scipy.stats\n",
    "import laboratorio"
   ]
  },
  {
   "cell_type": "markdown",
   "id": "e43fcbaa",
   "metadata": {},
   "source": [
    "# Parte 1\n",
    "\n",
    "Complete la implementación de `hello_world` en `laboratorio.py`. Luego ejecute el resultado aquí:"
   ]
  },
  {
   "cell_type": "code",
   "execution_count": 4,
   "id": "7938bf41",
   "metadata": {},
   "outputs": [
    {
     "data": {
      "text/plain": [
       "'Hola Mundo'"
      ]
     },
     "execution_count": 4,
     "metadata": {},
     "output_type": "execute_result"
    }
   ],
   "source": [
    "laboratorio.hello_world()"
   ]
  },
  {
   "cell_type": "markdown",
   "id": "6ae3aa33",
   "metadata": {},
   "source": [
    "# Parte 2"
   ]
  },
  {
   "cell_type": "markdown",
   "id": "9831604f",
   "metadata": {},
   "source": [
    "Complete la implementación de `fit_mistery_data` en `laboratorio.py`. Luego ejecute el resultado aquí"
   ]
  },
  {
   "cell_type": "code",
   "execution_count": 10,
   "id": "4c520577",
   "metadata": {
    "scrolled": true
   },
   "outputs": [
    {
     "data": {
      "text/plain": [
       "(6.746014286918019, 0.41389920532236746, 1.0104850789126822)"
      ]
     },
     "metadata": {},
     "output_type": "display_data"
    }
   ],
   "source": [
    "with open(\"data/mistery_data.pkl\", \"rb\") as f:\n",
    "    x = pickle.load(f)\n",
    "\n",
    "params = laboratorio.fit_mistery_data(x)\n",
    "display(params)"
   ]
  },
  {
   "cell_type": "markdown",
   "id": "9754c6a2",
   "metadata": {},
   "source": [
    "La rutina que se muestra a continuación grafica la función de densidad de probabilidad ajustada junto al histograma de los datos"
   ]
  },
  {
   "cell_type": "code",
   "execution_count": 11,
   "id": "abc5fde8",
   "metadata": {},
   "outputs": [
    {
     "data": {
      "image/png": "[encoded data removed]",
      "text/plain": [
       "<Figure size 432x216 with 1 Axes>"
      ]
     },
     "metadata": {
      "needs_background": "light"
     },
     "output_type": "display_data"
    }
   ],
   "source": [
    "dist = scipy.stats.gamma(*params)\n",
    "x_plot = np.linspace(dist.ppf(0.001), dist.ppf(0.999), num=100)\n",
    "fig, ax = plt.subplots(figsize=(6, 3), tight_layout=True)\n",
    "ax.hist(x, bins=20, density=True, alpha=0.5);\n",
    "ax.plot(x_plot, dist.pdf(x_plot), c='k');"
   ]
  },
  {
   "cell_type": "markdown",
   "id": "1439fa28",
   "metadata": {},
   "source": [
    "Comente respecto de la calidad del ajuste en base y discuta como podría medirse cuantitativamente dicha calidad basándose en lo aprendido en la unidad anterior"
   ]
  }
 ],
 "metadata": {
  "kernelspec": {
   "display_name": "Python 3 (ipykernel)",
   "language": "python",
   "name": "python3"
  },
  "language_info": {
   "codemirror_mode": {
    "name": "ipython",
    "version": 3
   },
   "file_extension": ".py",
   "mimetype": "text/x-python",
   "name": "python",
   "nbconvert_exporter": "python",
   "pygments_lexer": "ipython3",
   "version": "3.9.7"
  }
 },
 "nbformat": 4,
 "nbformat_minor": 5
}
