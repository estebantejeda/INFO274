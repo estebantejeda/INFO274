{
 "cells": [
  {
   "cell_type": "markdown",
   "metadata": {},
   "source": [
    "# SIMULACIÓN | LABORATORIO 5\n"
   ]
  },
  {
   "cell_type": "markdown",
   "metadata": {},
   "source": [
    "## Boostrap o remuestreo"
   ]
  },
  {
   "cell_type": "code",
   "execution_count": 64,
   "metadata": {},
   "outputs": [],
   "source": [
    "import numpy as np\n",
    "import math\n",
    "import matplotlib.pyplot as plt\n",
    "import pandas as pd\n",
    "import seaborn as sns\n",
    "import scipy \n",
    "from IPython.display import display, Math\n",
    "import ipywidgets as widgets\n",
    "import random\n",
    "import scipy.stats as stats\n",
    "import statistics"
   ]
  },
  {
   "cell_type": "markdown",
   "metadata": {},
   "source": [
    "### Ejercicio 1\n",
    "En un estudio sobre plantaciones de coihue, se ha recopilado información sobre la altura que alcanzan dichos árboles a los 20 años de edad, en diversas zonas de la región sur austral de Chile. A partir de dichos datos, estamos interesados en calcular un intervalo de confianza para la mediana de altura que alcanza esta especie a los 20 años de edad.\n",
    "Para ello utilizaremos remuestreo o bootstrap.\n",
    "1. Analice el código y evalue el número de muestras de bootstrap para alcanzar convergencia de la varianza estimada de la mediana.\n",
    "2. Calcule el error cuadrático medio de la mediana.\n",
    "3. Escoja otro estadístico de la muestra y calcule su incerteza con la técnica de boostrap\n",
    "4. Compare y comente sus resultados."
   ]
  },
  {
   "cell_type": "code",
   "execution_count": 66,
   "metadata": {},
   "outputs": [
    {
     "data": {
      "text/plain": [
       "28"
      ]
     },
     "execution_count": 66,
     "metadata": {},
     "output_type": "execute_result"
    }
   ],
   "source": [
    "datos = [12.5,11.4,18.4,10.7,9.5,11.7,15.4,12.3,18.6, 14.7, 10.7,11.6, 10.1, 8.2, 11.4,21.1, 12.1, 7.5, 12.5, 14.7, 10.3, 5.4, 9.4, 13.8, 9.6, 11.3, 14.8, 12.6]\n",
    "len(datos)"
   ]
  },
  {
   "cell_type": "code",
   "execution_count": 67,
   "metadata": {},
   "outputs": [
    {
     "name": "stdout",
     "output_type": "stream",
     "text": [
      "11.649999999999999\n",
      "0.27887348484848484\n"
     ]
    },
    {
     "data": {
      "text/latex": [
       "$\\displaystyle 11.65 \\pm 1.04$"
      ],
      "text/plain": [
       "<IPython.core.display.Math object>"
      ]
     },
     "metadata": {},
     "output_type": "display_data"
    }
   ],
   "source": [
    "\n",
    "m = statistics.median(datos)\n",
    "print (m)\n",
    "b=100\n",
    "mm = 0\n",
    "mn =[]\n",
    "for i in range(b):\n",
    "    dat = np.random.choice(list(datos),size=n,replace=True)\n",
    "    mn.append(statistics.median(dat))\n",
    "    \n",
    "var = statistics.variance(mn)\n",
    "print(var)\n",
    "rango = 1.96*math.sqrt(var)\n",
    "display(Math('%0.2f \\pm %0.2f' % (m, rango )))\n",
    "\n",
    "              "
   ]
  },
  {
   "cell_type": "markdown",
   "metadata": {},
   "source": [
    "### Ejercicio 2\n",
    "\n",
    "Suponga que los datos previamente registrados provienen de una distribución normal de parámetros $(\\mu,\\sigma)$\n",
    "\n",
    "1. Calcule los estimadores máximo verosímil de $\\hat{\\mu}$ y $\\hat{\\sigma}$\n",
    "2. Utilice boostrap paramétrico para estimar la incerteza de $\\hat{\\mu}$ y $\\hat{\\sigma}$ . Estime el número de muestras para alcanzar convergencia en cada caso.\n",
    "3. Compare y comente sus resultados.\n",
    "\n"
   ]
  },
  {
   "cell_type": "code",
   "execution_count": null,
   "metadata": {},
   "outputs": [],
   "source": []
  }
 ],
 "metadata": {
  "kernelspec": {
   "display_name": "Python 3",
   "language": "python",
   "name": "python3"
  },
  "language_info": {
   "codemirror_mode": {
    "name": "ipython",
    "version": 3
   },
   "file_extension": ".py",
   "mimetype": "text/x-python",
   "name": "python",
   "nbconvert_exporter": "python",
   "pygments_lexer": "ipython3",
   "version": "3.8.5"
  }
 },
 "nbformat": 4,
 "nbformat_minor": 2
}
