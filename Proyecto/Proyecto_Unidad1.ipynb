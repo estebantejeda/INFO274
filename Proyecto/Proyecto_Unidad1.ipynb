{
 "cells": [
  {
   "cell_type": "markdown",
   "metadata": {},
   "source": [
    "# SIMULACIÓN | PROYECTO UNIDAD 1\n",
    "\n",
    "\n"
   ]
  },
  {
   "cell_type": "markdown",
   "metadata": {},
   "source": [
    "## INSTRUCCIONES\n",
    "\n",
    "- El objetivo del proyecto es poner en práctica los contenidos aprendidos en la primera unidad de Probabilidades, con el uso de un set de datos real extraidos de un medio libre. En algunos casos deberá investigar ciertos contenidos para apoyar sus conclusiones.  \n",
    "\n",
    "\n",
    "- Se presentan las actividades a desarrollar, cada una de ella contiene un set de instrucciones, preguntas y su puntaje asociado. Las preguntas deben ser respondidas en celdas de texto (no se considera respuesta si está en un comentario entre las líneas de código)\n",
    "\n",
    "\n",
    "- Al finalizar presente las conclusiones de su trabajo. \n",
    "\n",
    "\n",
    "- Debe subir a siveduc en la tarea Proyecto1, su notebook y el archivo de datos utilizado.\n",
    "\n",
    "\n",
    "- El título del notebook debe ser: proyecto1_Apellido1_Apellido2_Apellido3\n",
    "\n",
    "\n",
    "- Fecha límite de entrega: viernes 4 de octubre 23:59 horas.  \n",
    "\n",
    "\n",
    "- Este trabajo pondera un 25% del total del curso "
   ]
  },
  {
   "cell_type": "markdown",
   "metadata": {},
   "source": [
    "**Integrantes:** "
   ]
  },
  {
   "cell_type": "code",
   "execution_count": 1,
   "metadata": {},
   "outputs": [],
   "source": [
    "# Pandas and numpy for data manipulation\n",
    "import pandas as pd\n",
    "import numpy as np\n",
    "\n",
    "# Matplotlib and seaborn for plotting\n",
    "import matplotlib.pyplot as plt\n",
    "import matplotlib\n",
    "%matplotlib inline\n",
    "\n",
    "matplotlib.rcParams['font.size'] = 10\n",
    "matplotlib.rcParams['figure.dpi'] = 100\n",
    "\n",
    "import seaborn as sns\n",
    "import scipy.stats as stats\n",
    "\n",
    "from IPython.core.pylabtools import figsize"
   ]
  },
  {
   "cell_type": "code",
   "execution_count": 2,
   "metadata": {},
   "outputs": [],
   "source": [
    "import random"
   ]
  },
  {
   "cell_type": "markdown",
   "metadata": {},
   "source": [
    "## Parte I : Propiedades de las Probabilidades\n",
    "\n"
   ]
  },
  {
   "cell_type": "markdown",
   "metadata": {},
   "source": [
    "A continuación se presenta la simulación de una población, representada por el dinero que dispone cada persona y sus transacciones económicas. \n",
    "\n",
    "1. (1 punto) Analice la simulación, realice las siguientes modificaciones en el proceso e interprete sus resultados:\n",
    "\n",
    "    (a) Modifique la distribución inicial de dinero. ¿Cómo se comporta el coeficiente de Gini y la distribución de la riqueza?\n",
    "    \n",
    "    (b) Modifique la función de transacción para aumentar o disminuir el índice de Gini. \n",
    "    \n",
    "    (c) Comente la simulación propuesta ¿Qué otros factores inciden en los resultados de la simulación?\n",
    "    \n",
    "    \n",
    "2. (1 punto) Defina eventos de interés $A$, $B$ y $C$ y calcule las siguientes probabilidades mediante la simulación propuesta:\n",
    "\n",
    "    (a) $P(A), P(B) y P(C)$ \n",
    "    \n",
    "    (b) $P(A \\cup B) $ \n",
    "\n",
    "    (c) $P(A \\mid C)$\n",
    "    \n",
    "Ejemplos de eventos de interés (defina sus propios eventos):\n",
    "- La mediana de la población es mayor o igual que $x$ pesos.\n",
    "- El percentil 10% es mayor o igual que $y$ pesos\n",
    "- El coeficiente de gini de la población es menor que $0.3$\n",
    "\n",
    "\n",
    "#### Referencia:\n",
    "https://nbviewer.jupyter.org/url/norvig.com/ipython/Economics.ipynb"
   ]
  },
  {
   "cell_type": "markdown",
   "metadata": {},
   "source": [
    "**gini**: Definición de la métrica de equidad de gini \n",
    "\n",
    "**transaccion**: accion de intercambio de dinero, puede ser justa o injusta\n",
    "\n",
    "**interaccion**: eleccion de los actores que realizan la transacción\n",
    "\n",
    "**simula**: funcion de simulacion, dinerop: lista que representa la cantidad de dinero actual que tiene cada persona, T: cantidad de iteraciones "
   ]
  },
  {
   "cell_type": "code",
   "execution_count": 3,
   "metadata": {},
   "outputs": [],
   "source": [
    "def gini(y):\n",
    "    \"Calcula el coeficiente de Gini: una medida de la equidad/inequidad en la\"\n",
    "    \"población y (representada por una lista que contabiliza el dinero actual de cada persona.\"\n",
    "    y = sorted(y)\n",
    "    n = len(y)\n",
    "    numer = 2 * sum((i+1) * y[i] for i in range(n))\n",
    "    denom = n * sum(y)\n",
    "    return (numer / denom) - (n + 1) / n\n",
    "\n",
    "def transaccion(A, B):\n",
    "    \"Reune el dinero de A y B en un pozo y luego lo distribuye aleatoriamente entre los dos actores.\"\n",
    "    pozo = A + B\n",
    "    parte1 = random.uniform(0,pozo)\n",
    "    return parte1, pozo - parte1\n",
    "\n",
    "def transaccion_triangular(A, B):\n",
    "    \"Reune el dinero de A y B en un pozo y luego lo distribuye aleatoriamente entre los dos actores.\"\n",
    "    pozo = A + B\n",
    "    parte1 = random.triangular(0,pozo)\n",
    "    return parte1, pozo - parte1\n",
    "\n",
    "def transaccion_injusta(A, B): return random.choice(([A + B, 0], [0, A + B]))\n",
    "\n",
    "def interaccion(N): return random.sample(range(N), 2)\n",
    "\n",
    "def percent(pct, items):\n",
    "    \"The item that is pct percent through the sorted list of items.\"\n",
    "    return items[min(len(items)-1, len(items) * pct // 100)]\n",
    "\n"
   ]
  },
  {
   "cell_type": "markdown",
   "metadata": {},
   "source": [
    "**SIMULACIÓN: modifíquela para realizar sus cálculos **"
   ]
  },
  {
   "cell_type": "code",
   "execution_count": 4,
   "metadata": {},
   "outputs": [],
   "source": [
    "def simula_TGR(dinerop, T):\n",
    "    \"Ejecuta simulacion de dinerop para T transacciones; devuelve dinerop en cada paso.\" \n",
    "    dinerop = dinerop.copy()\n",
    "    yield dinerop\n",
    "    for t in range(1, T + 1):\n",
    "        i, j = interaccion(len(dinerop))\n",
    "        dinerop[i], dinerop[j] = transaccion_triangular(dinerop[i], dinerop[j]) \n",
    "        yield dinerop\n",
    "\n",
    "def simula(dinerop, T):\n",
    "    \"Ejecuta simulacion de dinerop para T transacciones; devuelve dinerop en cada paso.\" \n",
    "    dinerop = dinerop.copy()\n",
    "    yield dinerop\n",
    "    for t in range(1, T + 1):\n",
    "        i, j = interaccion(len(dinerop))\n",
    "        dinerop[i], dinerop[j] = transaccion(dinerop[i], dinerop[j]) \n",
    "        yield dinerop"
   ]
  },
  {
   "cell_type": "markdown",
   "metadata": {},
   "source": [
    "*** Ejemplo de la simulación con una poblacion, donde los cuatro actores inician con 100$ y 8 iteraciones ***"
   ]
  },
  {
   "cell_type": "code",
   "execution_count": 5,
   "metadata": {},
   "outputs": [
    {
     "name": "stdout",
     "output_type": "stream",
     "text": [
      "[120, 120, 120, 120]\n",
      "[120, 157.60921792745228, 82.39078207254771, 120]\n",
      "[120, 193.41655923408257, 82.39078207254771, 84.1926586933697]\n",
      "[178.42388489949116, 193.41655923408257, 23.96689717305656, 84.1926586933697]\n",
      "[178.42388489949116, 46.891840495758515, 170.49161591138062, 84.1926586933697]\n",
      "[58.01045816220642, 167.30526723304325, 170.49161591138062, 84.1926586933697]\n",
      "[58.01045816220642, 210.8110209989438, 170.49161591138062, 40.68690492746916]\n",
      "[142.51302719561318, 126.30845196553707, 170.49161591138062, 40.68690492746916]\n",
      "[162.0095268411963, 126.30845196553707, 170.49161591138062, 21.190405281886022]\n"
     ]
    }
   ],
   "source": [
    "#Ejemplo simple de simular una población de 4 actores, con $100 cada uno inicialmente y 8 iteraciones:\n",
    "for pop in simula([120] * 4, 8):\n",
    "    print(pop)"
   ]
  },
  {
   "cell_type": "markdown",
   "metadata": {},
   "source": [
    "*** Puede tomar como ejemplo los siguientes gráficos y estadísticas presentadas *** "
   ]
  },
  {
   "cell_type": "code",
   "execution_count": 6,
   "metadata": {},
   "outputs": [],
   "source": [
    "import statistics\n",
    "\n",
    "def percent(pct, items):\n",
    "    \"Devuelve el item que corresponde al porcentaje pct (acumulado) en la lista ordenada de items.\"\n",
    "    return items[min(len(items)-1, len(items) * pct // 100)]\n",
    "\n",
    "def show1(dinerop, k=40, percentiles=(1, 10, 50, 90, 99), **kwargs):\n",
    "    \"Ejecuta simulación en k*N pasos, imprimiendo estadísticos y desplegando un histograma. \"\n",
    "    N = len(dinerop)\n",
    "    inicio = list(dinerop)\n",
    "    resultado = [(t, sorted(pop)) # Ordena resultados para poder calcular percentiles\n",
    "               for (t, pop) in enumerate(simula(dinerop, k * N, **kwargs))\n",
    "               if t % (N / 10) == 0]\n",
    "    times = [t for (t, pop) in resultado]\n",
    "    # Printout:\n",
    "    print('   t    Gini stdev' + (' {:3d}%' * len(percentiles)).format(*percentiles))\n",
    "    print('------- ---- -----' + ' ----' * len(percentiles))\n",
    "    fmt = '{:7,d} {:.2f} {:5.1f}' + ' {:4.0f}' * len(percentiles)\n",
    "    for (t, pop) in resultado:\n",
    "        if t % (4 * N) == 0:\n",
    "            data = [percent(pct, pop) for pct in percentiles]\n",
    "            print(fmt.format(t, gini(pop), statistics.stdev(pop), *data))\n",
    "    # Plot:\n",
    "    plt.xlabel('riqueza'); plt.ylabel('tiempo'); plt.grid(True)\n",
    "    for pct in percentiles:\n",
    "        line = [percent(pct, pop) for (t, pop) in resultado]\n",
    "        plt.plot(line, times)\n",
    "    plt.show()\n",
    "    # Histogram:\n",
    "    R = (min(pop+inicio), max(pop+inicio))\n",
    "    plt.hist(inicio, label='inicio',range=R, alpha=0.5)\n",
    "    plt.hist(pop,label='final', range=R,alpha=0.5)\n",
    "    plt.legend(loc='upper right')\n",
    "    plt.show()\n",
    "\n",
    "def show2(dinerop, k=40, percentiles=(1, 10, 50, 90, 99), **kwargs):\n",
    "    \"Ejecuta simulación en k*N pasos, imprimiendo estadísticos y desplegando un histograma. \"\n",
    "    N = len(dinerop)\n",
    "    inicio = list(dinerop)\n",
    "    resultado = [(t, sorted(pop)) # Ordena resultados para poder calcular percentiles\n",
    "               for (t, pop) in enumerate(simula_TGR(dinerop, k * N, **kwargs))\n",
    "               if t % (N / 10) == 0]\n",
    "    times = [t for (t, pop) in resultado]\n",
    "    # Printout:\n",
    "    print('   t    Gini stdev' + (' {:3d}%' * len(percentiles)).format(*percentiles))\n",
    "    print('------- ---- -----' + ' ----' * len(percentiles))\n",
    "    fmt = '{:7,d} {:.2f} {:5.1f}' + ' {:4.0f}' * len(percentiles)\n",
    "    for (t, pop) in resultado:\n",
    "        if t % (4 * N) == 0:\n",
    "            data = [percent(pct, pop) for pct in percentiles]\n",
    "            print(fmt.format(t, gini(pop), statistics.stdev(pop), *data))\n",
    "    # Plot:\n",
    "    plt.xlabel('riqueza'); plt.ylabel('tiempo'); plt.grid(True)\n",
    "    for pct in percentiles:\n",
    "        line = [percent(pct, pop) for (t, pop) in resultado]\n",
    "        plt.plot(line, times)\n",
    "    plt.show()\n",
    "    # Histogram:\n",
    "    R = (min(pop+inicio), max(pop+inicio))\n",
    "    plt.hist(inicio, label='inicio',range=R, alpha=0.5)\n",
    "    plt.hist(pop,label='final', range=R,alpha=0.5)\n",
    "    plt.legend(loc='upper right')\n",
    "    plt.show()  \n"
   ]
  },
  {
   "cell_type": "markdown",
   "metadata": {},
   "source": [
    "## Simulación con variación de Sueldo Medio"
   ]
  },
  {
   "cell_type": "code",
   "execution_count": 7,
   "metadata": {
    "scrolled": true
   },
   "outputs": [
    {
     "name": "stdout",
     "output_type": "stream",
     "text": [
      "   t    Gini stdev   1%  10%  50%  90%  99%\n",
      "------- ---- ----- ---- ---- ---- ---- ----\n",
      "      0 0.11  19.9   54   74  100  125  147\n",
      " 20,000 0.49  95.3    1   11   71  229  439\n",
      " 40,000 0.50  99.7    1   10   69  235  438\n",
      " 60,000 0.50 101.0    1   11   68  233  445\n",
      " 80,000 0.50  99.7    1   11   70  229  453\n",
      "100,000 0.50  99.9    1    9   69  231  452\n",
      "120,000 0.50 100.0    1   11   69  231  446\n",
      "140,000 0.50 100.2    1   10   69  228  464\n",
      "160,000 0.50 101.3    1   11   69  231  466\n",
      "180,000 0.49  98.6    1   11   70  230  458\n",
      "200,000 0.50 100.1    1   11   69  229  480\n"
     ]
    },
    {
     "data": {
      "image/png": "[encoded data removed]",
      "text/plain": [
       "<Figure size 600x400 with 1 Axes>"
      ]
     },
     "metadata": {
      "needs_background": "light"
     },
     "output_type": "display_data"
    },
    {
     "data": {
      "image/png": "[encoded data removed]",
      "text/plain": [
       "<Figure size 600x400 with 1 Axes>"
      ]
     },
     "metadata": {
      "needs_background": "light"
     },
     "output_type": "display_data"
    }
   ],
   "source": [
    "N  = 5000 # Tamaño de la población\n",
    "MU = 100 # Dinero medio en la población\n",
    "\n",
    "#dinerop = [random.uniform(MU,MU/7) for actor in range(N)]\n",
    "dinerop = [random.gauss(mu=MU, sigma=MU/5) for actor in range(N)]\n",
    "\n",
    "show1(dinerop)"
   ]
  },
  {
   "cell_type": "markdown",
   "metadata": {},
   "source": [
    "### Parte I : Pregunta 1.a\n",
    "    '[um] = Unidad monetaria.\n",
    "    \n",
    "    'Cuando el dinero medio de la poblacion baja de los 55-60[um], primer percentil que corresponde al 1% de la población, no obtiene riquesas en ciertas cantidad de transacciónes.\n",
    "    \n",
    "    'Cuando se mantiene en un nivel de 100-130[um], el primer,segundo y tercer percentil tienden a quedarse bajo la media, existiendo diferencias acumuladas de 300 unidades monetarias a partir del tercer percentil. Por otro lado el primer percentil logra aumentar su nivel de riquesa después de las 20000 transacciones a partir de las 115unidades monetarias.\n",
    "    \n",
    "    'Cuando se mantiene un nivel sobre las 400[um], el nivel de riquesa se dispersa un poco más.\n",
    "    \n",
    "    En conclusión con respecto al coeficiente de Gini, éste se mantine parcial ya que el comportamiento de su distribucion en la generacion de riquesa depende del valor proporcionado por la riquesa media, y que esta se estabiliza al término intermedio hacia una convergencia donde no se puede decidir la existencia de desigualdad o igualdad de riquesa."
   ]
  },
  {
   "cell_type": "markdown",
   "metadata": {},
   "source": [
    "### Parte I : Pregunta 1.b\n",
    "\n",
    "    Modificación de función transacción, cual se cambia generación de valores aleatorios"
   ]
  },
  {
   "cell_type": "markdown",
   "metadata": {},
   "source": [
    "### Simulación de datos con distribución de aleatoriedad  triangular"
   ]
  },
  {
   "cell_type": "code",
   "execution_count": 8,
   "metadata": {},
   "outputs": [
    {
     "name": "stdout",
     "output_type": "stream",
     "text": [
      "   t    Gini stdev   1%  10%  50%  90%  99%\n",
      "------- ---- ----- ---- ---- ---- ---- ----\n",
      "      0 0.11  20.1   53   75  100  126  146\n",
      " 20,000 0.34  63.2    9   31   88  186  301\n",
      " 40,000 0.34  64.6   10   31   87  185  314\n",
      " 60,000 0.34  62.5   11   33   87  186  301\n",
      " 80,000 0.34  62.6    9   32   87  184  294\n",
      "100,000 0.35  66.0    9   31   86  185  314\n",
      "120,000 0.34  61.8   11   32   88  183  291\n",
      "140,000 0.33  61.8   10   33   88  184  299\n",
      "160,000 0.34  62.0   10   32   88  184  290\n",
      "180,000 0.34  62.4    9   32   89  184  296\n",
      "200,000 0.34  62.3    9   33   88  182  297\n"
     ]
    },
    {
     "data": {
      "image/png": "[encoded data removed]",
      "text/plain": [
       "<Figure size 600x400 with 1 Axes>"
      ]
     },
     "metadata": {
      "needs_background": "light"
     },
     "output_type": "display_data"
    },
    {
     "data": {
      "image/png": "[encoded data removed]",
      "text/plain": [
       "<Figure size 600x400 with 1 Axes>"
      ]
     },
     "metadata": {
      "needs_background": "light"
     },
     "output_type": "display_data"
    }
   ],
   "source": [
    "N  = 5000 # Tamaño de la población\n",
    "MU = 100 # Dinero medio en la población\n",
    "\n",
    "#dinerop = [random.uniform(MU,MU/7) for actor in range(N)]\n",
    "dinerop = [random.gauss(mu=MU, sigma=MU/5) for actor in range(N)]\n",
    "\n",
    "show2(dinerop)"
   ]
  },
  {
   "cell_type": "markdown",
   "metadata": {},
   "source": [
    "### Parte I : Pregunta 1.c\n",
    "\n",
    "    Discusión de resultados, donde otros factores influyen en la entrega de resultados"
   ]
  },
  {
   "cell_type": "markdown",
   "metadata": {},
   "source": [
    "    Se puede desprender además que en la variación del SIGMA para generación de riquesa poblacional, el coeficiente de GINI inicialmente nos entrega una igualdad efectiva, ya que la generacion aleatoria de riquesa poblacional está dada por una distribución normal y cuanto más chico es el valor de concentración de la distribucion, esta se acota, por lo que los percentiles se juntan en función de la media salarial, para luego estabilizarse a la media cuando sobrepasa las 20000 transancciones.\n",
    "    \n",
    "    Por otro lado cuando se cambia la función de transacción, el coeficiente de GINI puede disminuir, ya que la funcion de distribucion a generar las transacciones, posee una concentración de valores distinta a la uniforme, permitiendo ser más equitativo en la repartición de dinero recaudado por un par de actores. \n",
    "    \n",
    "    En relación a los datos podemos desprender que se acota la brecha de desigualdad, donde los percentiles más altos de la población disminuyen sus cifras, se acercándose a los primeros 3, los cuales aumentan.\n",
    "    \n",
    "    En relación a las series de tiempo, existe una similitud en tendecia reflejada en el comportamiento de un valor esperado, y que los percentiles intermedios están más cercanos junto con los extremos que estan más cerrados, hacia la tendencia central salarial.\n",
    "    \n",
    "    Con respecto al gráfico de desigualdad, al mostar en los datos con una convergencia no resolutiva en la primera simulación, podemos desprender que existe una disparidad además de una gran diferencia en comportamiento de los datos simulados. En comparación a la segunda simulación, logramos obtener un comportamiento casi homogeneo, donde éstos logran estar dentro de una distribución conocida con media asociada.\n",
    "    "
   ]
  },
  {
   "cell_type": "markdown",
   "metadata": {},
   "source": [
    "### Parte I : Pregunta 2"
   ]
  },
  {
   "cell_type": "code",
   "execution_count": 13,
   "metadata": {},
   "outputs": [
    {
     "data": {
      "text/plain": [
       "(array([2.5012e+04, 3.4879e+04, 1.8775e+04, 7.4130e+03, 2.7050e+03,\n",
       "        8.4000e+02, 2.4800e+02, 9.5000e+01, 2.4000e+01, 9.0000e+00]),\n",
       " array([9.29849793e+02, 2.00909919e+05, 4.00889989e+05, 6.00870059e+05,\n",
       "        8.00850128e+05, 1.00083020e+06, 1.20081027e+06, 1.40079034e+06,\n",
       "        1.60077041e+06, 1.80075048e+06, 2.00073055e+06]),\n",
       " <BarContainer object of 10 artists>)"
      ]
     },
     "execution_count": 13,
     "metadata": {},
     "output_type": "execute_result"
    },
    {
     "data": {
      "image/png": "[encoded data removed]",
      "text/plain": [
       "<Figure size 600x400 with 1 Axes>"
      ]
     },
     "metadata": {
      "needs_background": "light"
     },
     "output_type": "display_data"
    }
   ],
   "source": [
    "#Ejemplo simple de simular una población de 90000 actores, \n",
    "#con $350000 cada uno inicialmente y 6*150000 iteraciones:\n",
    "\n",
    "data=[]\n",
    "for pop in simula_TGR([350000] * 90000, 6*150000):\n",
    "    data=pop\n",
    "plt.hist(data)"
   ]
  },
  {
   "cell_type": "markdown",
   "metadata": {},
   "source": [
    "##### P(A) = Actores con riqueza menor a 70000"
   ]
  },
  {
   "cell_type": "code",
   "execution_count": 14,
   "metadata": {},
   "outputs": [
    {
     "name": "stdout",
     "output_type": "stream",
     "text": [
      "P(A) =  0.04083333333333333\n"
     ]
    }
   ],
   "source": [
    "p_a = 0\n",
    "din_p_a=[]\n",
    "for i in data:\n",
    "    if i<70000:\n",
    "        p_a+=1\n",
    "        din_p_a.append(i)\n",
    "print(f\"P(A) = \",p_a/len(data))"
   ]
  },
  {
   "cell_type": "markdown",
   "metadata": {},
   "source": [
    "##### P(B) = Coeficiente de gini de la población sea mayor a 0.03 con 5000 transacciones."
   ]
  },
  {
   "cell_type": "code",
   "execution_count": 15,
   "metadata": {},
   "outputs": [
    {
     "data": {
      "text/plain": [
       "(array([460., 479., 488., 487., 488., 508., 507., 522., 538., 524.]),\n",
       " array([0.        , 0.00344315, 0.0068863 , 0.01032946, 0.01377261,\n",
       "        0.01721576, 0.02065891, 0.02410206, 0.02754522, 0.03098837,\n",
       "        0.03443152]),\n",
       " <BarContainer object of 10 artists>)"
      ]
     },
     "execution_count": 15,
     "metadata": {},
     "output_type": "execute_result"
    },
    {
     "data": {
      "image/png": "[encoded data removed]",
      "text/plain": [
       "<Figure size 600x400 with 1 Axes>"
      ]
     },
     "metadata": {
      "needs_background": "light"
     },
     "output_type": "display_data"
    }
   ],
   "source": [
    "dat=[]\n",
    "for pop in simula_TGR([350000] * 90000, 5000):\n",
    "    dat.append(gini(pop))\n",
    "plt.hist(dat)"
   ]
  },
  {
   "cell_type": "code",
   "execution_count": 16,
   "metadata": {},
   "outputs": [
    {
     "name": "stdout",
     "output_type": "stream",
     "text": [
      "P(B) =  0.1358\n"
     ]
    }
   ],
   "source": [
    "el=0\n",
    "for i in dat:\n",
    "    if i>= 0.03:\n",
    "        el+=1\n",
    "print(f'P(B) = ',el/5000)"
   ]
  },
  {
   "cell_type": "markdown",
   "metadata": {},
   "source": [
    "##### P(C) = Actores que se encuentren en el 2° percentil"
   ]
  },
  {
   "cell_type": "code",
   "execution_count": 17,
   "metadata": {},
   "outputs": [
    {
     "name": "stdout",
     "output_type": "stream",
     "text": [
      "P(C) =  0.4\n"
     ]
    }
   ],
   "source": [
    "se_percentil= len(data)*(2/5)\n",
    "\n",
    "print(f\"P(C) = \",se_percentil/len(data))"
   ]
  },
  {
   "cell_type": "markdown",
   "metadata": {},
   "source": [
    "##### $P(A \\cup B)$ = Actores con riqueza menor a 70000 o dentro del coeficiente de gini de 0.03 con 5000 transacciones"
   ]
  },
  {
   "cell_type": "code",
   "execution_count": 18,
   "metadata": {},
   "outputs": [
    {
     "name": "stdout",
     "output_type": "stream",
     "text": [
      "P(A∪B) = 0.5358\n"
     ]
    }
   ],
   "source": [
    "Pa_b = (el/5000)+(se_percentil/len(data))\n",
    "print(f\"P(A∪B) =\",Pa_b)"
   ]
  },
  {
   "cell_type": "markdown",
   "metadata": {},
   "source": [
    "##### $P(A | C)$ =  Actores que se encuentren en el 2° percentil dado que su riqueza sea menor a 70000\n",
    "\n",
    "$P(A | C) = P(A \\cap C )/P(C) = P(A) $ Para sucesos A y C independientes."
   ]
  },
  {
   "cell_type": "code",
   "execution_count": 19,
   "metadata": {},
   "outputs": [
    {
     "name": "stdout",
     "output_type": "stream",
     "text": [
      "P(A|C) =  0.04083333333333333\n"
     ]
    }
   ],
   "source": [
    "print(f\"P(A|C) = \", p_a/len(data))"
   ]
  },
  {
   "cell_type": "markdown",
   "metadata": {},
   "source": [
    "## Parte II: Distribuciones "
   ]
  },
  {
   "cell_type": "markdown",
   "metadata": {},
   "source": [
    "Busque un conjunto de datos disponible en un repositorio público, que contenga un conjunto de datos (al menos 1000 datos) de una variable aleatoria a valores reales. Utilice el set de datos para realizar las siguientes actividades:\n",
    "\n",
    "Ejemplo de repositorio de datos climáticos: www.cr2.cl\n",
    "\n",
    "0. Indique la fuente de sus datos. \n",
    "\n",
    "\n",
    "1. (0,5 pts) Descripcion de datos:  describa sus datos estadísticamente, grafique histograma y distribución de probabilidad empírica. Mencione alguna característica particular de su set de datos. \n",
    "\n",
    "2. (1 punto) Seleccione aleatoriamente una cantidad N de sus datos y calcule 3 estadísticos muestrales, luego aumente la cantidad de datos seleccionado (N++), grafique los valores de los estadísticos muestrales en cada iteración ¿qué ocurre con los estadísticos muestrales a medida que aumenta N?. Investigue y responda en base a la ley de los grandes números.\n",
    "\n",
    "3. (1 punto) Divida su set de datos en distintos grupos (aleatoriamente) y calcule los estadísticos muestrales de cada grupo y grafique el histograma resultante. Por ejemplo: para el caso de la media, debe calcular la media para cada grupo y luego graficar el histograma del conjunto de medias. ¿los estadísticos muestrales cumplen el Teorema del Límite Central? Justifique su respuesta.\n",
    "\n",
    "4. (0,5 pts) Defina una hipótesis sobre la distribución que siguen sus datos, utilice el test Kolmogorov-Smirnov ¿Puede rechazar la hipótesis? (usando un 95% de confianza). Comente sus resultados.\n",
    "\n",
    "5. (1 punto) Calcule la incerteza de sus estadísticos muestrales utilizando bootstrap. Interprete sus resultados. \n"
   ]
  },
  {
   "cell_type": "code",
   "execution_count": 20,
   "metadata": {},
   "outputs": [
    {
     "data": {
      "text/html": [
       "<div>\n",
       "<style scoped>\n",
       "    .dataframe tbody tr th:only-of-type {\n",
       "        vertical-align: middle;\n",
       "    }\n",
       "\n",
       "    .dataframe tbody tr th {\n",
       "        vertical-align: top;\n",
       "    }\n",
       "\n",
       "    .dataframe thead th {\n",
       "        text-align: right;\n",
       "    }\n",
       "</style>\n",
       "<table border=\"1\" class=\"dataframe\">\n",
       "  <thead>\n",
       "    <tr style=\"text-align: right;\">\n",
       "      <th></th>\n",
       "      <th>LOCATION</th>\n",
       "      <th>INDICATOR</th>\n",
       "      <th>SUBJECT</th>\n",
       "      <th>MEASURE</th>\n",
       "      <th>FREQUENCY</th>\n",
       "      <th>TIME</th>\n",
       "      <th>Value</th>\n",
       "      <th>Flag Codes</th>\n",
       "    </tr>\n",
       "  </thead>\n",
       "  <tbody>\n",
       "    <tr>\n",
       "      <th>0</th>\n",
       "      <td>AUS</td>\n",
       "      <td>MEATCONSUMP</td>\n",
       "      <td>BEEF</td>\n",
       "      <td>KG_CAP</td>\n",
       "      <td>A</td>\n",
       "      <td>1990</td>\n",
       "      <td>0.000</td>\n",
       "      <td>NaN</td>\n",
       "    </tr>\n",
       "    <tr>\n",
       "      <th>1</th>\n",
       "      <td>AUS</td>\n",
       "      <td>MEATCONSUMP</td>\n",
       "      <td>BEEF</td>\n",
       "      <td>KG_CAP</td>\n",
       "      <td>A</td>\n",
       "      <td>1991</td>\n",
       "      <td>27.942</td>\n",
       "      <td>NaN</td>\n",
       "    </tr>\n",
       "    <tr>\n",
       "      <th>2</th>\n",
       "      <td>AUS</td>\n",
       "      <td>MEATCONSUMP</td>\n",
       "      <td>BEEF</td>\n",
       "      <td>KG_CAP</td>\n",
       "      <td>A</td>\n",
       "      <td>1992</td>\n",
       "      <td>26.405</td>\n",
       "      <td>NaN</td>\n",
       "    </tr>\n",
       "    <tr>\n",
       "      <th>3</th>\n",
       "      <td>AUS</td>\n",
       "      <td>MEATCONSUMP</td>\n",
       "      <td>BEEF</td>\n",
       "      <td>KG_CAP</td>\n",
       "      <td>A</td>\n",
       "      <td>1993</td>\n",
       "      <td>26.370</td>\n",
       "      <td>NaN</td>\n",
       "    </tr>\n",
       "    <tr>\n",
       "      <th>4</th>\n",
       "      <td>AUS</td>\n",
       "      <td>MEATCONSUMP</td>\n",
       "      <td>BEEF</td>\n",
       "      <td>KG_CAP</td>\n",
       "      <td>A</td>\n",
       "      <td>1994</td>\n",
       "      <td>25.662</td>\n",
       "      <td>NaN</td>\n",
       "    </tr>\n",
       "  </tbody>\n",
       "</table>\n",
       "</div>"
      ],
      "text/plain": [
       "  LOCATION    INDICATOR SUBJECT MEASURE FREQUENCY  TIME   Value  Flag Codes\n",
       "0      AUS  MEATCONSUMP    BEEF  KG_CAP         A  1990   0.000         NaN\n",
       "1      AUS  MEATCONSUMP    BEEF  KG_CAP         A  1991  27.942         NaN\n",
       "2      AUS  MEATCONSUMP    BEEF  KG_CAP         A  1992  26.405         NaN\n",
       "3      AUS  MEATCONSUMP    BEEF  KG_CAP         A  1993  26.370         NaN\n",
       "4      AUS  MEATCONSUMP    BEEF  KG_CAP         A  1994  25.662         NaN"
      ]
     },
     "execution_count": 20,
     "metadata": {},
     "output_type": "execute_result"
    }
   ],
   "source": [
    "datos = pd.read_csv(\"DP_LIVE_03102021210904857.csv\")\n",
    "datos.head()"
   ]
  },
  {
   "cell_type": "code",
   "execution_count": 21,
   "metadata": {},
   "outputs": [],
   "source": [
    "def representacion(data):\n",
    "    drop_data = data.drop(labels=[\"TIME\"], axis=1,inplace=False)\n",
    "    colums = drop_data.columns\n",
    "    drp_data = np.array(drop_data)\n",
    "    \n",
    "    indx=[]\n",
    "    for i in range(colums.shape[0]):\n",
    "        indx.append(pd.to_datetime(colums[i]))\n",
    "    \n",
    "    paises=drop_data.index\n",
    "    paises.name=\"Country\"\n",
    "    \n",
    "    out = pd.DataFrame(data=drp_data,index =paises , columns=indx)\n",
    "    \n",
    "    return(out)"
   ]
  },
  {
   "cell_type": "code",
   "execution_count": 22,
   "metadata": {},
   "outputs": [
    {
     "data": {
      "text/plain": [
       "(2240, 8)"
      ]
     },
     "execution_count": 22,
     "metadata": {},
     "output_type": "execute_result"
    }
   ],
   "source": [
    "data = datos[(datos.LOCATION.isin(['ARG,''BRA', 'CHL','COL','PER','PRY','MEX','CAN','USA']))]\n",
    "data.shape"
   ]
  },
  {
   "cell_type": "code",
   "execution_count": 23,
   "metadata": {},
   "outputs": [],
   "source": [
    "data_a = pd.get_dummies(data, columns=['SUBJECT'])\n",
    "data_b = data_a[data_a[\"MEASURE\"]==\"KG_CAP\"]"
   ]
  },
  {
   "cell_type": "code",
   "execution_count": 24,
   "metadata": {},
   "outputs": [],
   "source": [
    "data_c = data_b.drop(columns=['FREQUENCY','Flag Codes','INDICATOR'], axis=1)"
   ]
  },
  {
   "cell_type": "code",
   "execution_count": 25,
   "metadata": {},
   "outputs": [
    {
     "data": {
      "text/html": [
       "<div>\n",
       "<style scoped>\n",
       "    .dataframe tbody tr th:only-of-type {\n",
       "        vertical-align: middle;\n",
       "    }\n",
       "\n",
       "    .dataframe tbody tr th {\n",
       "        vertical-align: top;\n",
       "    }\n",
       "\n",
       "    .dataframe thead th {\n",
       "        text-align: right;\n",
       "    }\n",
       "</style>\n",
       "<table border=\"1\" class=\"dataframe\">\n",
       "  <thead>\n",
       "    <tr style=\"text-align: right;\">\n",
       "      <th></th>\n",
       "      <th>LOCATION</th>\n",
       "      <th>MEASURE</th>\n",
       "      <th>TIME</th>\n",
       "      <th>Value</th>\n",
       "      <th>SUBJECT_BEEF</th>\n",
       "      <th>SUBJECT_PIG</th>\n",
       "      <th>SUBJECT_POULTRY</th>\n",
       "      <th>SUBJECT_SHEEP</th>\n",
       "    </tr>\n",
       "  </thead>\n",
       "  <tbody>\n",
       "    <tr>\n",
       "      <th>160</th>\n",
       "      <td>CAN</td>\n",
       "      <td>KG_CAP</td>\n",
       "      <td>1990</td>\n",
       "      <td>25.002</td>\n",
       "      <td>1</td>\n",
       "      <td>0</td>\n",
       "      <td>0</td>\n",
       "      <td>0</td>\n",
       "    </tr>\n",
       "    <tr>\n",
       "      <th>161</th>\n",
       "      <td>CAN</td>\n",
       "      <td>KG_CAP</td>\n",
       "      <td>1991</td>\n",
       "      <td>24.456</td>\n",
       "      <td>1</td>\n",
       "      <td>0</td>\n",
       "      <td>0</td>\n",
       "      <td>0</td>\n",
       "    </tr>\n",
       "    <tr>\n",
       "      <th>162</th>\n",
       "      <td>CAN</td>\n",
       "      <td>KG_CAP</td>\n",
       "      <td>1992</td>\n",
       "      <td>23.830</td>\n",
       "      <td>1</td>\n",
       "      <td>0</td>\n",
       "      <td>0</td>\n",
       "      <td>0</td>\n",
       "    </tr>\n",
       "    <tr>\n",
       "      <th>163</th>\n",
       "      <td>CAN</td>\n",
       "      <td>KG_CAP</td>\n",
       "      <td>1993</td>\n",
       "      <td>22.805</td>\n",
       "      <td>1</td>\n",
       "      <td>0</td>\n",
       "      <td>0</td>\n",
       "      <td>0</td>\n",
       "    </tr>\n",
       "    <tr>\n",
       "      <th>164</th>\n",
       "      <td>CAN</td>\n",
       "      <td>KG_CAP</td>\n",
       "      <td>1994</td>\n",
       "      <td>23.226</td>\n",
       "      <td>1</td>\n",
       "      <td>0</td>\n",
       "      <td>0</td>\n",
       "      <td>0</td>\n",
       "    </tr>\n",
       "  </tbody>\n",
       "</table>\n",
       "</div>"
      ],
      "text/plain": [
       "    LOCATION MEASURE  TIME   Value  SUBJECT_BEEF  SUBJECT_PIG  \\\n",
       "160      CAN  KG_CAP  1990  25.002             1            0   \n",
       "161      CAN  KG_CAP  1991  24.456             1            0   \n",
       "162      CAN  KG_CAP  1992  23.830             1            0   \n",
       "163      CAN  KG_CAP  1993  22.805             1            0   \n",
       "164      CAN  KG_CAP  1994  23.226             1            0   \n",
       "\n",
       "     SUBJECT_POULTRY  SUBJECT_SHEEP  \n",
       "160                0              0  \n",
       "161                0              0  \n",
       "162                0              0  \n",
       "163                0              0  \n",
       "164                0              0  "
      ]
     },
     "execution_count": 25,
     "metadata": {},
     "output_type": "execute_result"
    }
   ],
   "source": [
    "data_c.head()"
   ]
  },
  {
   "cell_type": "code",
   "execution_count": 26,
   "metadata": {},
   "outputs": [
    {
     "name": "stdout",
     "output_type": "stream",
     "text": [
      "Total de consumo =  1120\n"
     ]
    },
    {
     "data": {
      "image/png": "[encoded data removed]",
      "text/plain": [
       "<Figure size 1120x320 with 1 Axes>"
      ]
     },
     "metadata": {
      "needs_background": "light"
     },
     "output_type": "display_data"
    }
   ],
   "source": [
    "#data_a.drop('INDICATOR', axis=1, inplace=True)\n",
    "fig, ax = plt.subplots(1, 1, figsize=(14, 4), dpi=80)\n",
    "print(f'Total de consumo = ',data_c.shape[0])\n",
    "ax.set_title(\"Consumo por persona\")\n",
    "ax.set(xlabel='kg/persona', ylabel='cantidad de paises por años')\n",
    "ax.hist(data_c['Value'])\n",
    "plt.show()"
   ]
  },
  {
   "cell_type": "code",
   "execution_count": 28,
   "metadata": {},
   "outputs": [],
   "source": [
    "def ecdf(data):\n",
    "    \"\"\" Calcula la distribución empírica acumulada\"\"\"\n",
    "    x = np.sort(data)\n",
    "    n = x.size\n",
    "    y = np.arange(1, n+1) / n\n",
    "    return(x,y)"
   ]
  },
  {
   "cell_type": "code",
   "execution_count": 32,
   "metadata": {},
   "outputs": [
    {
     "data": {
      "image/png": "[encoded data removed]",
      "text/plain": [
       "<Figure size 800x320 with 4 Axes>"
      ]
     },
     "metadata": {
      "needs_background": "light"
     },
     "output_type": "display_data"
    }
   ],
   "source": [
    "datos = data_c['Value']\n",
    "\n",
    "binwidth = 4\n",
    "args = stats.expon.fit(datos)\n",
    "fig, axs = plt.subplots(1, 2,figsize=(10, 4), dpi=80)\n",
    "\n",
    "axs[0].hist(datos, edgecolor = 'black', bins = int(50/binwidth))\n",
    "ax1 = axs[0].twinx()\n",
    "vec = range(-5,50,2)\n",
    "dvec0=[]\n",
    "\n",
    "\n",
    "for i in vec:\n",
    "    dvec0.append(stats.expon.pdf(x=i, loc=args[0], scale=args[1]))\n",
    "    \n",
    "ax1.plot(vec[1:],dvec0[1:],color='red')\n",
    "\n",
    "axs[1].bar(x+0.3,cum_exp)\n",
    "## probabilidad teórica\n",
    "ax2 = axs[1].twinx()\n",
    "\n",
    "pvec0 = []\n",
    "for i in vec:\n",
    "    pvec0.append(stats.expon.cdf(x=i, loc=args[0], scale=args[1]))\n",
    "ax2.plot(vec,pvec0,color='red')   \n",
    "plt.show()"
   ]
  },
  {
   "cell_type": "markdown",
   "metadata": {},
   "source": [
    "### Descripción de los datos\n",
    "\n",
    "    Tomamos un dataset cual contempla la actividad del consumo de carne a nivel mundial, donde sus datos comprenden:\n",
    "    \n",
    "    -Pais = Región cual comprende la medicion\n",
    "    -Indicador = Medida del experimento\n",
    "    -Sujeto = Tipo de consumo\n",
    "    -Medida = Kg/por persona ó Toneladas \n",
    "    -Frecuencia = índice de consumo\n",
    "    -Tiempo = Año cual se hizo medida\n",
    "    -Valor = registro según medida\n",
    "    -Código bandera = código país.\n",
    "    \n",
    "    De estos datos consideramos a los paises de américa con un total de 1120 datos, donde consideramos como información comparativa la cantidad de consumo por persona."
   ]
  },
  {
   "cell_type": "markdown",
   "metadata": {},
   "source": [
    "### Parte II : Pregunta 2"
   ]
  },
  {
   "cell_type": "code",
   "execution_count": null,
   "metadata": {},
   "outputs": [],
   "source": []
  },
  {
   "cell_type": "markdown",
   "metadata": {},
   "source": [
    "### Referencias útiles para la parte II: \n",
    "\n",
    "\n",
    "\n",
    "[1] **Ley de los grandes números:**  https://nbviewer.jupyter.org/github/CamDavidsonPilon/Probabilistic-Programming-and-Bayesian-Methods-for-Hackers/blob/master/Chapter4_TheGreatestTheoremNeverTold/Ch4_LawOfLargeNumbers_PyMC3.ipynb\n",
    "\n",
    "\n",
    "[2] Ross, https://drive.google.com/file/d/1tenWSvfAU2336m-km4vRMorKmDIQRKme/view?usp=sharing"
   ]
  },
  {
   "cell_type": "markdown",
   "metadata": {},
   "source": [
    "## Parte III: Conclusiones\n",
    "\n",
    "\n",
    "1. (0,8 pts) Presente las conclusiones de su trabajo. \n",
    "\n",
    "2. (0,2 pts) Además reflexione respecto a qué significa que los datos sean **independientes e identicamente distribuidos** y por qué se debe cumplir esta condición en los grupos seleccionados aleatoriamente en las preguntas 2 y 3 de la parte II (puede reflexionar en torno a qué pasaría si no lo fueran) \n"
   ]
  },
  {
   "cell_type": "code",
   "execution_count": null,
   "metadata": {},
   "outputs": [],
   "source": []
  }
 ],
 "metadata": {
  "kernelspec": {
   "display_name": "Python 3 (ipykernel)",
   "language": "python",
   "name": "python3"
  },
  "language_info": {
   "codemirror_mode": {
    "name": "ipython",
    "version": 3
   },
   "file_extension": ".py",
   "mimetype": "text/x-python",
   "name": "python",
   "nbconvert_exporter": "python",
   "pygments_lexer": "ipython3",
   "version": "3.8.11"
  }
 },
 "nbformat": 4,
 "nbformat_minor": 2
}
