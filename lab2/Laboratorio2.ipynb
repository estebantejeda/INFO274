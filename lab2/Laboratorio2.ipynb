{
 "cells": [
  {
   "cell_type": "markdown",
   "metadata": {},
   "source": [
    "# Laboratorio 2\n",
    "### Entrega: martes 31 de agosto 2021, 23:59 horas\n"
   ]
  },
  {
   "cell_type": "markdown",
   "metadata": {},
   "source": [
    "## Algunas Variables Aleatorias Especiales\n",
    "En este laboratorio revisaremos algunos tipos de variables aleatorias especiales, definidas por que tienen  distribuciones de probabilidad conocidas. Trabajaremos tanto con v.a. discretas como continuas, y calcularemos y graficaremos las probabilidades teóricas (probabilidaes puntutales, funciones de  densidad y de distribución de probabilidad) y luego las vamos a comparar con datos obtenidos por simulación."
   ]
  },
  {
   "cell_type": "markdown",
   "metadata": {},
   "source": [
    "### Estadísticos asociados\n",
    "1. Posición:  tendencia central y no central\n",
    "   percentiles, media, moda\n",
    "\n",
    "2. Dispersión: \n",
    "    Varianza, desviación estándar\n",
    "\n",
    "3. Forma: \n",
    "    asimetría, curtosis. \n",
    "    \n",
    "   $$\\text{ Asimetría (skewness) }= \\frac{E[(X-\\mu)^3]}{\\sigma^3}$$\n",
    "   $$\\text{ Curtosis }= \\frac{E[(X-\\mu)^4]}{\\sigma^4} - 3$$"
   ]
  },
  {
   "cell_type": "code",
   "execution_count": 1,
   "metadata": {},
   "outputs": [],
   "source": [
    "# Pandas and numpy for data manipulation\n",
    "import pandas as pd\n",
    "import numpy as np\n",
    "import scipy.stats as stats\n",
    "import math\n",
    "\n",
    "# Matplotlib and seaborn for plotting\n",
    "import matplotlib.pyplot as plt\n",
    "import matplotlib\n",
    "%matplotlib inline\n",
    "\n",
    "matplotlib.rcParams['font.size'] = 18\n",
    "matplotlib.rcParams['figure.dpi'] = 200\n",
    "\n",
    "from IPython.core.pylabtools import figsize\n"
   ]
  },
  {
   "cell_type": "markdown",
   "metadata": {},
   "source": [
    "#### Distribución Bernoulli\n",
    "Suponga que se realiza un ensayo cuya salida es \"éxito\" o \"falla\". La v.a. entonces tiene sólo dos valores posibles: 1 si \"éxito\" 0 si no. Si $p$ es la probabilidad de éxito, entonces:\n",
    "\n",
    "$\\begin{equation}\n",
    "\\begin{array}{lll} \n",
    "P(X=1) & = &p \\qquad y \\qquad P(X=0) = 1-p \\\\\n",
    "P(X = i) & = & p^i (1-p)^{1-i} \\,, i=0,1\\\\\n",
    "E[X] & = & 1*p + 0*(1-p) = p\\\\\n",
    "E[X^2] & = & 1*p + 0*(1-p) = p\\\\\n",
    "Var(X) & = & E[X^2] - (E[X])^2 = p - p^2 = p(1-p)\\\\\n",
    "\\end{array}\n",
    "\\end{equation}$\n"
   ]
  },
  {
   "cell_type": "markdown",
   "metadata": {},
   "source": [
    "#### Distribución Binomial\n",
    "Suponga que se realizan $N$  ensayos independientes idénticos  Bernoulli  de parámetro $p$. La v.a. X que representa el número $k$ de ensayos existosos entre los $N$ ensayos realizados, se denomina Binomial y cumple:\n",
    "\n",
    "$\\begin{equation}\n",
    "\\begin{array}{lll} \n",
    "P(X=k) & = & {N \\choose k} p^k (1-p)^{N-k}, \\qquad k=0,1,...N \\\\\n",
    "E[X] & = & Np\\\\\n",
    "Var(X) & = & Np(1-p)\\\\\n",
    "Simetria(X) & = & \\frac{1-2p}{\\sqrt{np(1-p)}}\\\\\n",
    "Curtosis(X) & = & \\frac{1-6p(1-p)}{np(1-p)}\\\\\n",
    "\\end{array}\n",
    "\\end{equation}$"
   ]
  },
  {
   "cell_type": "markdown",
   "metadata": {},
   "source": [
    "### Simulación Variable Aleatoria con Distribución Binomial\n",
    "En esta sección utilizaremos la función generadora de valores aleatorios para la distribución binomial, y se compara la distribución empírica con la distribución teórica"
   ]
  },
  {
   "cell_type": "code",
   "execution_count": null,
   "metadata": {},
   "outputs": [],
   "source": [
    "## simulación de size valores v.a. binomial\n",
    "size=100\n",
    "n=50\n",
    "p=0.2\n",
    "datos_bin =stats.binom.rvs(n=n, p=p, size=size) \n",
    "binwidth = 4\n",
    "fig, ax = plt.subplots(1, 1, figsize=(6, 4), dpi=80)\n",
    "ax.hist(datos_bin, color = 'blue', edgecolor = 'black', bins = int(50/binwidth))\n",
    "## probabilidad teórica\n",
    "ax2 = ax.twinx()\n",
    "vec = list(range(n+1))\n",
    "##\n",
    "pvec = []\n",
    "for i in vec:\n",
    "    pvec.append(stats.binom.pmf(k=i, n=n, p=p))\n",
    "ax2.plot(vec,pvec)\n",
    "plt.draw()\n"
   ]
  },
  {
   "cell_type": "code",
   "execution_count": null,
   "metadata": {},
   "outputs": [],
   "source": [
    "## gráfica de la distribución empírica acumulada\n",
    "def ecdf(data):\n",
    "    \"\"\" Calcula la distribución empírica acumulada\"\"\"\n",
    "    x = np.sort(data)\n",
    "    n = x.size\n",
    "    y = np.arange(1, n+1) / n\n",
    "    return(x,y)\n",
    "\n",
    "fig, ax = plt.subplots(1, 1,figsize=(6, 4), dpi=80)\n",
    "\n",
    "x,cum_bin = ecdf(datos_bin)\n",
    "ax.bar(x,cum_bin)\n",
    "## probabilidad teórica\n",
    "ax2 = ax.twinx()\n",
    "vec = list(range(51))\n",
    "##\n",
    "pvec = []\n",
    "for i in vec:\n",
    "    pvec.append(stats.binom.cdf(k=i, n=n, p=p))\n",
    "ax2.plot(vec,pvec)\n",
    "plt.draw()\n"
   ]
  },
  {
   "cell_type": "code",
   "execution_count": null,
   "metadata": {},
   "outputs": [],
   "source": [
    "## Cálculo de esperanza y varianza empírica y teórica\n",
    "promedio = sum(datos_bin)/size\n",
    "var_emp = sum((datos_bin - promedio)*(datos_bin-promedio))/size\n",
    "asim = stats.skew(datos_bin)\n",
    "curtos = stats.kurtosis(datos_bin)\n",
    "print('esperanza empírica:',promedio,' teórica: ',n*p)\n",
    "print('varianza empírica:',var_emp,' teórica: ', n*p*(1-p))\n",
    "print('asimetría empírica:', asim, 'teórica: ',(1-2*p)/(math.sqrt(n*p*(1-p))))\n",
    "print('curtosis empírico: ', curtos, 'teórico: ',(1-6*p*(1-p))/(n*p*(1-p)))"
   ]
  },
  {
   "cell_type": "markdown",
   "metadata": {},
   "source": [
    "#### Ejercicio 1: \n",
    "1) ¿Cuántas simulaciones es necesario hacer para acercarse a los valores teóricos?"
   ]
  },
  {
   "cell_type": "code",
   "execution_count": null,
   "metadata": {},
   "outputs": [],
   "source": [
    "#size=10000  #Cantidad de experimentos\n",
    "#n=40        #numero de eventos certeros  \n",
    "#p=0.3       #probabildiad de distribución\n",
    "#cota        #nivel de exigencia para los errores\n",
    "def simulacion_binomial(p,n,size,cota):\n",
    "    error_prom=[]\n",
    "    error_var=[]\n",
    "    error_asim=[]\n",
    "    error_curtos=[]\n",
    "    \n",
    "    resultado=0\n",
    "    \n",
    "    for i in range(1,size):\n",
    "        datos_bin = stats.binom.rvs(n=n, p=p, size=i); \n",
    "        \n",
    "        promedio = sum(datos_bin)/i\n",
    "        var_emp = sum((datos_bin - promedio)*(datos_bin-promedio))/i\n",
    "        asim = stats.skew(datos_bin)\n",
    "        curtos = stats.kurtosis(datos_bin)\n",
    "        \n",
    "        prom_t = n*p\n",
    "        var_t = n*p*(1-p)\n",
    "        asim_t = (1-2*p)/(math.sqrt(n*p*(1-p)))\n",
    "        curtos_t = (1-6*p*(1-p))/(n*p*(1-p))\n",
    "        \n",
    "        error_prom.append(abs((prom_t - promedio)/prom_t))\n",
    "        error_var.append(abs((var_t - var_emp)/var_t))\n",
    "        error_asim.append(abs((asim_t - asim)/asim_t))\n",
    "        error_curtos.append(abs((curtos_t - curtos)/curtos_t))\n",
    "        \n",
    "        if(error_prom[i-1]<cota and\n",
    "          error_var[i-1]<cota and\n",
    "          error_asim[i-1]<cota and\n",
    "          error_curtos[i-1]<cota):\n",
    "            resultado=i\n",
    "            break;\n",
    "    \n",
    "    print(\"Se necesitan: \",resultado,\" simulaciones\")\n",
    "    \n",
    "    fig, ax = plt.subplots(2, 2,figsize=(17, 17), dpi=30)\n",
    "    fig.suptitle('Gráficos de Error de estadísgrafos') \n",
    "    ax[0,0].plot(error_prom)\n",
    "    ax[0,0].set_title('Error Esperanza')\n",
    "    ax[0,0].set(xlabel='iteraciones', ylabel='error')\n",
    "\n",
    "    ax[0,1].plot(error_var)\n",
    "    ax[0,1].set_title('Error Varianza')\n",
    "    ax[0,1].set(xlabel='iteraciones', ylabel='error')\n",
    "\n",
    "    ax[1,0].plot(error_asim)\n",
    "    ax[1,0].set_title('Error Asimetría')\n",
    "    ax[1,0].set(xlabel='iteraciones', ylabel='error')\n",
    "\n",
    "    ax[1,1].plot(error_curtos)\n",
    "    ax[1,1].set_title('Error Curtosis')\n",
    "    ax[1,1].set(xlabel='iteraciones', ylabel='error')"
   ]
  },
  {
   "cell_type": "code",
   "execution_count": null,
   "metadata": {},
   "outputs": [],
   "source": [
    "#p=0.3       #probabildiad de distribución\n",
    "#n=40        #numero de eventos certeros  \n",
    "#size=10000  #Cantidad de experimentos\n",
    "#tolerancia        #nivel de exigencia para los errores     \n",
    "simulacion_binomial(0.4,40,2000,0.09)"
   ]
  },
  {
   "cell_type": "markdown",
   "metadata": {},
   "source": [
    "2) Cambie los valores de los parámetros y analice si hay cambios en su respuesta en (1)"
   ]
  },
  {
   "cell_type": "code",
   "execution_count": null,
   "metadata": {},
   "outputs": [],
   "source": [
    "simulacion_binomial(0.3,60,100000,0.01)"
   ]
  },
  {
   "cell_type": "code",
   "execution_count": null,
   "metadata": {},
   "outputs": [],
   "source": [
    "simulacion_binomial(0.7,20,100000,0.1)"
   ]
  },
  {
   "cell_type": "code",
   "execution_count": null,
   "metadata": {},
   "outputs": [],
   "source": [
    "simulacion_binomial(0.4,40,1000,0.1)"
   ]
  },
  {
   "cell_type": "markdown",
   "metadata": {},
   "source": [
    "----"
   ]
  },
  {
   "cell_type": "markdown",
   "metadata": {},
   "source": [
    "#### Ejercicio 2: \n",
    "Realice un desarrollo similar al caso de la Distribución Binomial para el caso de una variable aleatoria con Distribución de Probabilidad Poisson"
   ]
  },
  {
   "cell_type": "markdown",
   "metadata": {},
   "source": [
    "\n",
    "$P(X=x)  =  \\frac{\\mu e^{-\\mu}}{x!}, \\qquad x=0,1,...n $\n",
    "\n",
    "$E[X]  =  \\mu$\n",
    "\n",
    "$Var(X) = \\mu$\n",
    "\n",
    "$Simetria(X) = {\\frac{-1}{\\sqrt{\\mu}}}$\n",
    "\n",
    "$Curtosis(X) = 3 + \\mu^{-1}$\n",
    "\n",
    "\n"
   ]
  },
  {
   "cell_type": "code",
   "execution_count": null,
   "metadata": {},
   "outputs": [],
   "source": [
    "# simulación de size valores v.a. poisson\n",
    "size=100\n",
    "mu = 50\n",
    "datos_poisson =stats.poisson.rvs(mu, size=size) \n",
    "#rvs: Random variates\n",
    "binwidth = 4\n",
    "fig, ax = plt.subplots(1, 1, figsize=(6, 4), dpi=80)\n",
    "ax.hist(datos_poisson, color = 'blue', edgecolor = 'black', bins = int(50/binwidth))\n",
    "\n",
    "## probabilidad teórica\n",
    "ax2 = ax.twinx()\n",
    "vec = list(range(2*mu+1))\n",
    "##\n",
    "pvec = []\n",
    "for i in vec:\n",
    "    pvec.append(stats.poisson.pmf(k=i, mu=mu))\n",
    "    #pmf: Probability mass function_probabilidad puntual\n",
    "ax2.plot(vec,pvec)\n",
    "plt.draw()"
   ]
  },
  {
   "cell_type": "code",
   "execution_count": null,
   "metadata": {},
   "outputs": [],
   "source": [
    "## gráfica de la distribución empírica acumulada\n",
    "def ecdf(data):\n",
    "    \"\"\" Calcula la distribución empírica acumulada\"\"\"\n",
    "    x = np.sort(data)\n",
    "    n = x.size\n",
    "    y = np.arange(1, n+1) / n\n",
    "    return(x,y)\n",
    "\n",
    "fig, ax = plt.subplots(1, 1,figsize=(6, 4), dpi=80)\n",
    "\n",
    "x,cum_poisson = ecdf(datos_poisson)\n",
    "ax.bar(x,cum_poisson)\n",
    "\n",
    "## probabilidad teórica\n",
    "ax2 = ax.twinx()\n",
    "vec = list(range(2*mu+1))\n",
    "##\n",
    "pvec = []\n",
    "for i in vec:\n",
    "    pvec.append(stats.poisson.cdf(k=i, mu=mu))\n",
    "ax2.plot(vec,pvec)\n",
    "plt.draw()"
   ]
  },
  {
   "cell_type": "code",
   "execution_count": null,
   "metadata": {},
   "outputs": [],
   "source": [
    "## Cálculo de esperanza y varianza empírica y teórica\n",
    "promedio = sum(datos_poisson)/size\n",
    "var_emp = sum((datos_poisson - promedio)*(datos_poisson-promedio))/size\n",
    "asim = stats.skew(datos_poisson)\n",
    "curtos = stats.kurtosis(datos_poisson)\n",
    "print('Esperanza empírica:',promedio,'   teórica: ',mu)\n",
    "print('Varianza empírica:',var_emp,' teórica: ', mu)\n",
    "print('Asimetría empírica:', asim, 'teórica: ',1/math.sqrt(mu))\n",
    "print('Curtosis empírico: ', curtos, 'teórico: ',3+(pow(mu,-1)))"
   ]
  },
  {
   "cell_type": "code",
   "execution_count": null,
   "metadata": {},
   "outputs": [],
   "source": [
    "#size=10000  #Cantidad de experimentos\n",
    "#mu = 40        #\n",
    "#cota < 1        #nivel de exigencia para los errores\n",
    "def simulacion_poisson(mu,size,cota):\n",
    "    error_prom=[]\n",
    "    error_var=[]\n",
    "    error_asim=[]\n",
    "    error_curtos=[]\n",
    "    \n",
    "    resultado=0\n",
    "    \n",
    "    for i in range(1,size):\n",
    "        datos_psn = stats.poisson.rvs(mu, size=i)\n",
    "        \n",
    "        promedio = sum(datos_psn)/i\n",
    "        var_emp = sum((datos_psn - promedio)*(datos_psn-promedio))/i\n",
    "        asim = stats.skew(datos_psn)\n",
    "        curtos = stats.kurtosis(datos_psn)\n",
    "        \n",
    "        prom_t = mu\n",
    "        var_t = mu\n",
    "        asim_t = 1/math.sqrt(mu)\n",
    "        curtos_t = 3+(pow(mu,-1))\n",
    "        \n",
    "        error_prom.append(abs((prom_t - promedio)/prom_t))\n",
    "        error_var.append(abs((var_t - var_emp)/var_t))\n",
    "        error_asim.append(abs((asim_t - asim)/asim_t))\n",
    "        error_curtos.append(abs((curtos_t - curtos)/curtos_t))\n",
    "        \n",
    "        if(error_prom[i-1]<cota and\n",
    "          error_var[i-1]<cota and\n",
    "          error_asim[i-1]<cota and\n",
    "          0.75<error_curtos[i-1]<1.5):\n",
    "            resultado=i\n",
    "            break;\n",
    "    \n",
    "    print(\"Se necesitan: \",resultado,\" simulaciones\")\n",
    "    \n",
    "    fig, ax = plt.subplots(2, 2,figsize=(17, 17), dpi=40)\n",
    "    fig.suptitle('Gráficos de Error de estadísgrafos') \n",
    "    ax[0,0].plot(error_prom)\n",
    "    ax[0,0].set_title('Error Esperanza')\n",
    "    ax[0,0].set(xlabel='iteraciones', ylabel='error')\n",
    "\n",
    "    ax[0,1].plot(error_var)\n",
    "    ax[0,1].set_title('Error Varianza')\n",
    "    ax[0,1].set(xlabel='iteraciones', ylabel='error')\n",
    "\n",
    "    ax[1,0].plot(error_asim)\n",
    "    ax[1,0].set_title('Error Asimetría')\n",
    "    ax[1,0].set(xlabel='iteraciones', ylabel='error')\n",
    "\n",
    "    ax[1,1].plot(error_curtos)\n",
    "    ax[1,1].set_title('Error Curtosis')\n",
    "    ax[1,1].set(xlabel='iteraciones', ylabel='error')"
   ]
  },
  {
   "cell_type": "code",
   "execution_count": null,
   "metadata": {},
   "outputs": [],
   "source": [
    "simulacion_poisson(50,5000,0.009)"
   ]
  },
  {
   "cell_type": "markdown",
   "metadata": {},
   "source": [
    "#### Distribución Normal o Gaussiana\n",
    "Sea $X$ v.a. continua, es normal de media $\\mu$ y varianza $\\sigma^2$ y se denota $\\cal{N}(\\mu,\\sigma^2)$ si su densidad de probabilidad cumple:\n",
    "\n",
    "\n",
    "$\\begin{equation}\n",
    "\\begin{array}{lll} \n",
    "f_X(x) & = & \\frac{1}{\\sqrt{2\\pi}\\sigma} exp(\\frac{-(x-\\mu)^2}{2\\sigma^2})\\qquad, -\\infty < x <\\infty\\\\\n",
    "E[X] &= &\\mu\\\\\n",
    "Var(X)& =& \\sigma^2\\\\\n",
    "\\end{array}\n",
    "\\end{equation}$\n",
    "\n",
    "Esta es la distribución de probabilidad mas utilizada. Muchas variables se distribuyen aproximadamente normales (altura, peso, satisfacción en el trabajo, etc.). \n",
    "\n",
    "Permite modelar los errores o ruidos.\n",
    "\n",
    "¿Cómo se verifica que una v.a. sigue una distribución normal?\n",
    "\n",
    "Test de normalidad de Shapiro-Wilk, Q-Q plot\n"
   ]
  },
  {
   "cell_type": "markdown",
   "metadata": {},
   "source": [
    "### Simulación Variable Aleatoria con Distribución Normal\n",
    "En esta sección utilizaremos la función generadora de valores aleatorios para la distribución normal, y se compara la distribución empírica con la distribución teórica"
   ]
  },
  {
   "cell_type": "code",
   "execution_count": null,
   "metadata": {},
   "outputs": [],
   "source": [
    "## simulación de size valores v.a. normal\n",
    "size=100\n",
    "mu=50\n",
    "sigma=10\n",
    "datos_norm =stats.norm.rvs(loc=mu, scale= sigma, size=size) \n",
    "binwidth = 4\n",
    "fig, ax = plt.subplots(1, 1,figsize=(6, 4), dpi=80)\n",
    "ax.hist(datos_norm, color = 'blue', edgecolor = 'black', bins = int(2*mu/binwidth))\n",
    "## probabilidad teórica\n",
    "ax2 = ax.twinx()\n",
    "vec = list(range(2*mu+1))\n",
    "##\n",
    "pvec = []\n",
    "for i in vec:\n",
    "    pvec.append(stats.norm.pdf(x=i, loc=mu, scale= sigma))\n",
    "ax2.plot(vec,pvec)\n",
    "plt.draw()\n"
   ]
  },
  {
   "cell_type": "code",
   "execution_count": null,
   "metadata": {},
   "outputs": [],
   "source": [
    "## gráfica de la distribución empírica acumulada\n",
    "def ecdf(data):\n",
    "    \"\"\" Calcula la distribución empírica acumulada\"\"\"\n",
    "    x = np.sort(data)\n",
    "    n = x.size\n",
    "    y = np.arange(1, n+1) / n\n",
    "    return(x,y)\n",
    "\n",
    "fig, ax = plt.subplots(1, 1,figsize=(6, 4), dpi=80)\n",
    "\n",
    "x,cum_norm = ecdf(datos_norm)\n",
    "ax.bar(x,cum_norm)\n",
    "## probabilidad teórica\n",
    "ax2 = ax.twinx()\n",
    "vec = list(range(2*mu+1))\n",
    "##\n",
    "pvec = []\n",
    "for i in vec:\n",
    "    pvec.append(stats.norm.cdf(x=i, loc=mu, scale=sigma))\n",
    "ax2.plot(vec,pvec)\n",
    "plt.draw()\n"
   ]
  },
  {
   "cell_type": "code",
   "execution_count": null,
   "metadata": {},
   "outputs": [],
   "source": [
    "## Cálculo de esperanza y varianza empírica y teórica\n",
    "promedio = sum(datos_norm)/size\n",
    "var_emp = sum((datos_norm - promedio)*(datos_norm-promedio))/size\n",
    "asim = stats.skew(datos_norm)\n",
    "curtos = stats.kurtosis(datos_norm)\n",
    "print('esperanza empírica:',promedio,' teórica: ',mu)\n",
    "print('varianza empírica:',var_emp,' teórica: ', sigma*sigma)\n",
    "print('asimetría empírica:', asim, 'teórica: ',0)\n",
    "print('curtosis empírico: ', curtos, 'teórico: ',0)\n"
   ]
  },
  {
   "cell_type": "markdown",
   "metadata": {},
   "source": [
    "#### Ejercicio 3: \n",
    "1) ¿Cuántas simulaciones es necesario hacer para acercarse a los valores teóricos?\n",
    "\n",
    "2) Cambie los valores de los parámetros y analice si hay cambios en su respuesta en (1)"
   ]
  },
  {
   "cell_type": "code",
   "execution_count": null,
   "metadata": {},
   "outputs": [],
   "source": [
    "#(1) ¿Cuántas simulaciones es necesario hacer para acercarse a los valores teóricos?\n",
    "\n",
    "def simulacion_val(mu, sigma, size, cota, sims):\n",
    "    \n",
    "    d_n =stats.norm.rvs(loc=mu, scale= sigma, size=size) \n",
    "    \n",
    "    esperanza = []\n",
    "    varianza = []\n",
    "    asimetria = []\n",
    "    curtosis = []\n",
    "    \n",
    "    r=0\n",
    "    \n",
    "    resultado=sims\n",
    "    \n",
    "    e_teorica = mu\n",
    "    v_teorica = sigma**2\n",
    "    a_teorica = 0\n",
    "    c_teorica = 0\n",
    "    \n",
    "    for i in range(1,size):\n",
    "    \n",
    "        d_n =stats.norm.rvs(loc=mu, scale= sigma, size=sims) \n",
    "        e_empirica = sum(d_n)/sims\n",
    "        v_empirica = sum((d_n - e_teorica)*(d_n-e_teorica))/sims\n",
    "        a_empirica = stats.skew(d_n)\n",
    "        c_empirica = stats.kurtosis(d_n)\n",
    "        if (   (abs(e_teorica - e_empirica) < cota)\n",
    "           and (abs(v_teorica - v_empirica) < cota)\n",
    "           and (abs(a_teorica - a_empirica) < cota)\n",
    "           and (abs(c_teorica - c_empirica) < cota)):\n",
    "            break\n",
    "        esperanza.append(e_empirica)\n",
    "        varianza.append(v_empirica)\n",
    "        asimetria.append(a_empirica)\n",
    "        curtosis.append(c_empirica)\n",
    "        sims += 100\n",
    "    \n",
    "    resultado=sims/100\n",
    "    \n",
    "    print(\"Se necesitan: \",resultado,\" simulaciones\")\n",
    "    \n",
    "    fig, axs = plt.subplots(2, 2, figsize=(10,9))\n",
    "\n",
    "    x_sims = np.arange(100,sims,100)\n",
    "\n",
    "    axs[0, 0].plot(x_sims, esperanza)\n",
    "    axs[0, 0].axhline(y=e_teorica, color='r', linestyle='-', label='Esperanza teorica')\n",
    "    axs[0, 0].set_title('Esperanza')\n",
    "\n",
    "    axs[0, 1].plot(x_sims, varianza)\n",
    "    axs[0, 1].axhline(y=v_teorica, color='r', linestyle='-', label='Varianza teorica')\n",
    "    axs[0, 1].set_title('Varianza')\n",
    "\n",
    "    axs[1, 0].plot(x_sims, asimetria)\n",
    "    axs[1, 0].axhline(y=a_teorica, color='r', linestyle='-', label='Asimetría teorica')\n",
    "    axs[1, 0].set_title('Asimetría')\n",
    "\n",
    "    axs[1, 1].plot(x_sims, curtosis)\n",
    "    axs[1, 1].axhline(y=c_teorica, color='r', linestyle='-', label='Curtosis teorica')\n",
    "    axs[1, 1].set_title('Curtosis')\n",
    "    fig.tight_layout()"
   ]
  },
  {
   "cell_type": "code",
   "execution_count": null,
   "metadata": {},
   "outputs": [],
   "source": [
    "simulacion_val(50, 10, 1000, 0.01, 100)"
   ]
  },
  {
   "cell_type": "code",
   "execution_count": null,
   "metadata": {},
   "outputs": [],
   "source": [
    "#(2) Cambie los valores de los parámetros y analice si hay cambios en su respuesta en (\n",
    "\n",
    "simulacion_val(50, 10, 1000, 0.03, 100)"
   ]
  },
  {
   "cell_type": "markdown",
   "metadata": {},
   "source": [
    "#### Ejercicio 4: \n",
    "Realice un desarrollo similar para el caso de una variable aleatoria continua distribuída chi-cuadrado de $k$ grados de libertad"
   ]
  },
  {
   "cell_type": "markdown",
   "metadata": {},
   "source": [
    "__Distribución chi-cuadrado:__\n",
    "\n",
    "Si la variable aleatoria continua $X$ tiene distribución chi-cuadrado con k grados de libertad, entonces:\n",
    "\n",
    "$X \\sim \\chi^2_k$\n",
    "\n",
    "y la función densidad de la variable aleatoria $X$, está dado por:\n",
    "\n",
    "$f_X(x)= \\frac{(\\frac{1}{2})^\\frac{k}{2}}{\\Gamma (\\frac{k}{2})} x^{\\frac{k}{2}-1} e^{\\frac{-x}{2}}$ , para $x > 0$ y $\\Gamma$ corresponde a la función gamma. \n",
    "\n",
    "\n",
    "$E[X] = k$\n",
    "\n",
    "$Var(X) = 2k$\n",
    "\n",
    "$Simetría(X) = \\sqrt{\\frac{8}{k}}$\n",
    "\n",
    "$Curtosis = \\frac{12}{k}$"
   ]
  },
  {
   "cell_type": "code",
   "execution_count": 2,
   "metadata": {},
   "outputs": [
    {
     "data": {
      "image/png": "[encoded data removed]",
      "text/plain": [
       "<Figure size 480x320 with 2 Axes>"
      ]
     },
     "metadata": {
      "needs_background": "light"
     },
     "output_type": "display_data"
    }
   ],
   "source": [
    "## simulación de size valores v.a. normal\n",
    "#df grados de libertad (k)\n",
    "size=100\n",
    "df=55\n",
    "datos_chi2 = stats.chi2.rvs(df, size=size)\n",
    "binwidth = 4\n",
    "fig, ax = plt.subplots(1, 1,figsize=(6, 4), dpi=80)\n",
    "ax.hist(datos_chi2, color = 'blue', edgecolor = 'black')\n",
    "## probabilidad teórica\n",
    "ax2 = ax.twinx()\n",
    "vec = list(range(2*df+1))\n",
    "##\n",
    "pvec = []\n",
    "for i in vec:\n",
    "    pvec.append(stats.chi2.pdf(x=i, df=df))\n",
    "ax2.plot(vec,pvec)\n",
    "plt.draw()"
   ]
  },
  {
   "cell_type": "code",
   "execution_count": 3,
   "metadata": {},
   "outputs": [
    {
     "data": {
      "text/plain": [
       "<BarContainer object of 100 artists>"
      ]
     },
     "execution_count": 3,
     "metadata": {},
     "output_type": "execute_result"
    },
    {
     "data": {
      "image/png": "[encoded data removed]",
      "text/plain": [
       "<Figure size 480x320 with 1 Axes>"
      ]
     },
     "metadata": {
      "needs_background": "light"
     },
     "output_type": "display_data"
    }
   ],
   "source": [
    "## gráfica de la distribución empírica acumulada\n",
    "def ecdf(data):\n",
    "    \"\"\" Calcula la distribución empírica acumulada\"\"\"\n",
    "    x = np.sort(data)\n",
    "    n = x.size\n",
    "    y = np.arange(1, n+1) / n\n",
    "    return(x,y)\n",
    "\n",
    "fig, ax = plt.subplots(1, 1,figsize=(6, 4), dpi=80)\n",
    "\n",
    "x,cum_chi2 = ecdf(datos_chi2)\n",
    "ax.bar(x,cum_chi2)"
   ]
  },
  {
   "cell_type": "code",
   "execution_count": 4,
   "metadata": {},
   "outputs": [
    {
     "name": "stdout",
     "output_type": "stream",
     "text": [
      "Esperanza empírica: 54.31011668737251    teórica:  55\n",
      "Varianza empírica: 121.93893221505265  teórica:  110\n",
      "Asimetría empírica: 0.4081672377628709 teórica:  0.3813850356982369\n",
      "Curtosis empírico:  -0.2958624472962672 teórico:  0.21818181818181817\n"
     ]
    }
   ],
   "source": [
    "## Cálculo de esperanza y varianza empírica y teórica\n",
    "promedio = sum(datos_chi2)/size\n",
    "var_emp = sum((datos_chi2 - promedio)*(datos_chi2-promedio))/size\n",
    "asim = stats.skew(datos_chi2)\n",
    "curtos = stats.kurtosis(datos_chi2)\n",
    "print('Esperanza empírica:',promedio,'   teórica: ',df)\n",
    "print('Varianza empírica:',var_emp,' teórica: ', 2*df)\n",
    "print('Asimetría empírica:', asim, 'teórica: ',math.sqrt(8/df))\n",
    "print('Curtosis empírico: ', curtos, 'teórico: ',12/df)"
   ]
  },
  {
   "cell_type": "code",
   "execution_count": 12,
   "metadata": {},
   "outputs": [],
   "source": [
    "#size=10000  #Cantidad de experimentos\n",
    "#df = 55        k grados de libertad\n",
    "#cota < 1        #nivel de exigencia para los errores\n",
    "def simulacion_chi2(df,size,cota):\n",
    "    error_prom=[]\n",
    "    error_var=[]\n",
    "    error_asim=[]\n",
    "    error_curtos=[]\n",
    "    \n",
    "    resultado=0\n",
    "    \n",
    "    for i in range(1,size):\n",
    "        datos_chi2 = stats.chi2.rvs(df, size=i)\n",
    "        \n",
    "        promedio = sum(datos_chi2)/i\n",
    "        var_emp = sum((datos_chi2 - promedio)*(datos_chi2-promedio))/i\n",
    "        asim = stats.skew(datos_chi2)\n",
    "        curtos = stats.kurtosis(datos_chi2)\n",
    "        \n",
    "        prom_t = df\n",
    "        var_t = df\n",
    "        asim_t = math.sqrt(1/df)\n",
    "        curtos_t = 12/df\n",
    "        \n",
    "        error_prom.append(abs((prom_t - promedio)/prom_t))\n",
    "        error_var.append(abs((var_t - var_emp)/var_t))\n",
    "        error_asim.append(abs((asim_t - asim)/asim_t))\n",
    "        error_curtos.append(abs((curtos_t - curtos)/curtos_t))\n",
    "        \n",
    "        if(error_prom[i-1]<cota and\n",
    "          error_var[i-1]<cota and\n",
    "          error_asim[i-1]<cota and\n",
    "          0.75<error_curtos[i-1]<1.5):\n",
    "            resultado=i\n",
    "            break;\n",
    "    \n",
    "    #print(\"Se necesitan: \",resultado,\" simulaciones\")\n",
    "    \n",
    "    fig, ax = plt.subplots(2, 2,figsize=(17, 17), dpi=60)\n",
    "    fig.suptitle('Gráficos de Error de estadísgrafos') \n",
    "    ax[0,0].plot(error_prom)\n",
    "    ax[0,0].set_title('Error Esperanza')\n",
    "    ax[0,0].set(xlabel='iteraciones', ylabel='error')\n",
    "\n",
    "    ax[0,1].plot(error_var)\n",
    "    ax[0,1].set_title('Error Varianza')\n",
    "    ax[0,1].set(xlabel='iteraciones', ylabel='error')\n",
    "\n",
    "    ax[1,0].plot(error_asim)\n",
    "    ax[1,0].set_title('Error Asimetría')\n",
    "    ax[1,0].set(xlabel='iteraciones', ylabel='error')\n",
    "\n",
    "    ax[1,1].plot(error_curtos)\n",
    "    ax[1,1].set_title('Error Curtosis')\n",
    "    ax[1,1].set(xlabel='iteraciones', ylabel='error')"
   ]
  },
  {
   "cell_type": "code",
   "execution_count": 14,
   "metadata": {},
   "outputs": [
    {
     "data": {
      "image/png": "[encoded data removed]",
      "text/plain": [
       "<Figure size 1020x1020 with 4 Axes>"
      ]
     },
     "metadata": {
      "needs_background": "light"
     },
     "output_type": "display_data"
    }
   ],
   "source": [
    "simulacion_chi2(55,20000, 0.1)"
   ]
  },
  {
   "cell_type": "markdown",
   "metadata": {},
   "source": [
    "---"
   ]
  },
  {
   "cell_type": "markdown",
   "metadata": {},
   "source": [
    "#### Ejercicio 5 (2 puntos):\n",
    "Utilice datos de sismicidad del Centro de Sismológico Nacional (http://evtdb.csn.uchile.cl/events), escoja dos  regiones geográficas en Chile (y la región del océano Pacífico contigua), con dimensiones de al menos 5 grados, tanto en longitud como latitud y grafique los histogramas de magnitud y profundidad de los eventos sísmicos significativos disponibles. Calcule parámetros empíricos para cada serie de datos.  Compare y concluya."
   ]
  },
  {
   "cell_type": "code",
   "execution_count": 11,
   "metadata": {},
   "outputs": [
    {
     "name": "stdout",
     "output_type": "stream",
     "text": [
      "datos_sismos.csv  info147_tarea2.ipynb\tprototipo.ipynb\r\n",
      "datos_sismos.xls  Laboratorio2.ipynb\r\n"
     ]
    }
   ],
   "source": [
    "!ls"
   ]
  },
  {
   "cell_type": "code",
   "execution_count": 270,
   "metadata": {},
   "outputs": [],
   "source": [
    "df = pd.read_csv('datos_sismos.csv', index_col=0)\n",
    "idx=df.index\n",
    "columns=df.columns\n",
    "data = pd.DataFrame(data=df,index=df.index,columns=df.columns)"
   ]
  },
  {
   "cell_type": "markdown",
   "metadata": {},
   "source": [
    "### Localizacion 1 =  Sector La Serena (IV Región de Coquimbo) Zona coordillerana"
   ]
  },
  {
   "cell_type": "code",
   "execution_count": 272,
   "metadata": {},
   "outputs": [],
   "source": [
    "data1 = data[(data.Latitud<-30)&(data.Latitud>-33)&(data.Longitud<-69)&(data.Longitud>-71)]"
   ]
  },
  {
   "cell_type": "code",
   "execution_count": 273,
   "metadata": {},
   "outputs": [
    {
     "data": {
      "text/plain": [
       "(38, 4)"
      ]
     },
     "execution_count": 273,
     "metadata": {},
     "output_type": "execute_result"
    }
   ],
   "source": [
    "data1.shape"
   ]
  },
  {
   "cell_type": "markdown",
   "metadata": {},
   "source": [
    "### Localizacion 2 = Sector Antofagasta (II Ragion de Tarapacacá) Zona coordillerana"
   ]
  },
  {
   "cell_type": "code",
   "execution_count": 274,
   "metadata": {},
   "outputs": [],
   "source": [
    "data2 = data[(data.Latitud<-22)&(data.Latitud>-23)&(data.Longitud<-68)&(data.Longitud>-69)]"
   ]
  },
  {
   "cell_type": "code",
   "execution_count": 275,
   "metadata": {},
   "outputs": [
    {
     "data": {
      "text/plain": [
       "(53, 4)"
      ]
     },
     "execution_count": 275,
     "metadata": {},
     "output_type": "execute_result"
    }
   ],
   "source": [
    "data2.shape"
   ]
  },
  {
   "cell_type": "markdown",
   "metadata": {},
   "source": [
    "# Revision de datos con respecto a una locación 1"
   ]
  },
  {
   "cell_type": "markdown",
   "metadata": {},
   "source": [
    "### Datos y gráfica relacionados a la profundidad de la Locacion 1"
   ]
  },
  {
   "cell_type": "code",
   "execution_count": 283,
   "metadata": {},
   "outputs": [
    {
     "name": "stdout",
     "output_type": "stream",
     "text": [
      "Estadígrafos de la profundidad\n",
      "Promedio:  108.23684210526316\n",
      "Varianza empírica:  1005.4439058171744\n",
      "Asimmetría:  -0.8114151052820776\n",
      "Curtossis:  2.2180108040970143\n"
     ]
    }
   ],
   "source": [
    "promedio_l11 = sum(data1.Profundidad)/data1.shape[0]\n",
    "var_emp_l11 = sum((data1.Profundidad - promedio_l11)*(data1.Profundidad-promedio_l11))/data1.shape[0]\n",
    "asim_l11 = stats.skew(data1.Profundidad)\n",
    "curtos_l11 = stats.kurtosis(data1.Profundidad)\n",
    "print(\"Estadígrafos de la profundidad\")\n",
    "print(\"Promedio: \",promedio_l11)\n",
    "print(\"Varianza empírica: \",var_emp_l11)\n",
    "print(\"Asimmetría: \",asim_l11)\n",
    "print(\"Curtossis: \",curtos_l11)"
   ]
  },
  {
   "cell_type": "code",
   "execution_count": 285,
   "metadata": {},
   "outputs": [
    {
     "data": {
      "text/plain": [
       "[Text(0.5, 0, 'Nivel de profundidad [km]'), Text(0, 0.5, 'Muestras')]"
      ]
     },
     "execution_count": 285,
     "metadata": {},
     "output_type": "execute_result"
    },
    {
     "data": {
      "image/png": "[encoded data removed]",
      "text/plain": [
       "<Figure size 330x330 with 1 Axes>"
      ]
     },
     "metadata": {
      "needs_background": "light"
     },
     "output_type": "display_data"
    }
   ],
   "source": [
    "fig, ax = plt.subplots(1, 1,figsize=(11, 11),dpi=30)\n",
    "fig.suptitle('Gráficos estadísgrafos Geológicos') \n",
    "ax.hist(data1.Profundidad)\n",
    "ax.set_title('Profundidad')\n",
    "ax.set(xlabel='Nivel de profundidad [km]', ylabel='Muestras')"
   ]
  },
  {
   "cell_type": "markdown",
   "metadata": {},
   "source": [
    "### Datos y gráfica relacionados a la magnitud de la Locacion 1"
   ]
  },
  {
   "cell_type": "code",
   "execution_count": 286,
   "metadata": {},
   "outputs": [
    {
     "name": "stdout",
     "output_type": "stream",
     "text": [
      "Estadígrafos de la Magnitud\n",
      "Promedio:  4.792105263157895\n",
      "Varianza empírica:  0.2570429362880886\n",
      "Asimmetría:  0.6301039828818384\n",
      "Curtossis:  0.2407625217592777\n"
     ]
    }
   ],
   "source": [
    "promedio_l12 = sum(data1.Magnitud)/data1.shape[0]\n",
    "var_emp_l12 = sum((data1.Magnitud - promedio_l12)*(data1.Magnitud-promedio_l12))/data1.shape[0]\n",
    "asim_l12 = stats.skew(data1.Magnitud)\n",
    "curtos_l12 = stats.kurtosis(data1.Magnitud)\n",
    "print(\"Estadígrafos de la Magnitud\")\n",
    "print(\"Promedio: \",promedio_l12)\n",
    "print(\"Varianza empírica: \",var_emp_l12)\n",
    "print(\"Asimmetría: \",asim_l12)\n",
    "print(\"Curtossis: \",curtos_l12)"
   ]
  },
  {
   "cell_type": "code",
   "execution_count": 287,
   "metadata": {},
   "outputs": [
    {
     "data": {
      "text/plain": [
       "[Text(0.5, 0, 'Nivel de potencia'), Text(0, 0.5, 'Muestras')]"
      ]
     },
     "execution_count": 287,
     "metadata": {},
     "output_type": "execute_result"
    },
    {
     "data": {
      "image/png": "[encoded data removed]",
      "text/plain": [
       "<Figure size 330x330 with 1 Axes>"
      ]
     },
     "metadata": {
      "needs_background": "light"
     },
     "output_type": "display_data"
    }
   ],
   "source": [
    "fig, ax = plt.subplots(1, 1,figsize=(11, 11),dpi=30)\n",
    "fig.suptitle('Gráficos estadígrafos Geológicos') \n",
    "ax.hist(data1.Magnitud)\n",
    "ax.set_title('Magnitud')\n",
    "ax.set(xlabel='Nivel de potencia', ylabel='Muestras')"
   ]
  },
  {
   "cell_type": "markdown",
   "metadata": {},
   "source": [
    "# Revision de datos con respecto a una locación 2"
   ]
  },
  {
   "cell_type": "markdown",
   "metadata": {},
   "source": [
    "### Datos y gráfica relacionados a la profundidad de la Locacion 2"
   ]
  },
  {
   "cell_type": "code",
   "execution_count": 288,
   "metadata": {},
   "outputs": [
    {
     "name": "stdout",
     "output_type": "stream",
     "text": [
      "Estadígrafos de la profundidad\n",
      "Promedio:  112.0754716981132\n",
      "Varianza empírica:  168.9377002491991\n",
      "Asimetria:  0.7028106282540364\n",
      "Curtosis:  1.2726213844453493\n"
     ]
    }
   ],
   "source": [
    "promedio_l21 = sum(data2.Profundidad)/data2.shape[0]\n",
    "var_emp_l21 = sum((data2.Profundidad - promedio_l21)*(data2.Profundidad-promedio_l21))/data2.shape[0]\n",
    "asim_l21 = stats.skew(data2.Profundidad)\n",
    "curtos_l21 = stats.kurtosis(data2.Profundidad)\n",
    "print(\"Estadígrafos de la profundidad\")\n",
    "print(\"Promedio: \",promedio_l21)\n",
    "print(\"Varianza empírica: \",var_emp_l21)\n",
    "print(\"Asimetria: \",asim_l21)\n",
    "print(\"Curtosis: \",curtos_l21)"
   ]
  },
  {
   "cell_type": "code",
   "execution_count": 289,
   "metadata": {},
   "outputs": [
    {
     "data": {
      "text/plain": [
       "[Text(0.5, 0, 'Nivel de profundidad [km]'), Text(0, 0.5, 'Muestras')]"
      ]
     },
     "execution_count": 289,
     "metadata": {},
     "output_type": "execute_result"
    },
    {
     "data": {
      "image/png": "[encoded data removed]",
      "text/plain": [
       "<Figure size 330x330 with 1 Axes>"
      ]
     },
     "metadata": {
      "needs_background": "light"
     },
     "output_type": "display_data"
    }
   ],
   "source": [
    "fig, ax = plt.subplots(1, 1,figsize=(11, 11),dpi=30)\n",
    "fig.suptitle('Gráficos estadísgrafos Geológicos') \n",
    "ax.hist(data2.Profundidad)\n",
    "ax.set_title('Profundidad')\n",
    "ax.set(xlabel='Nivel de profundidad [km]', ylabel='Muestras')"
   ]
  },
  {
   "cell_type": "markdown",
   "metadata": {},
   "source": [
    "### Datos y gráfica relacionados a la magnitud de la Locacion 2"
   ]
  },
  {
   "cell_type": "code",
   "execution_count": 290,
   "metadata": {},
   "outputs": [
    {
     "name": "stdout",
     "output_type": "stream",
     "text": [
      "Estadígrafos de la Magnitud\n",
      "Promedio:  4.70188679245283\n",
      "Varianza empírica:  0.180939836240655\n",
      "Asimetria:  0.40760674234741295\n",
      "Curtosis:  -0.34624114225138447\n"
     ]
    }
   ],
   "source": [
    "promedio_l22 = sum(data2.Magnitud)/data2.shape[0]\n",
    "var_emp_l22 = sum((data2.Magnitud - promedio_l22)*(data2.Magnitud-promedio_l22))/data2.shape[0]\n",
    "asim_l22 = stats.skew(data2.Magnitud)\n",
    "curtos_l22 = stats.kurtosis(data2.Magnitud)\n",
    "print(\"Estadígrafos de la Magnitud\")\n",
    "print(\"Promedio: \",promedio_l22)\n",
    "print(\"Varianza empírica: \",var_emp_l22)\n",
    "print(\"Asimetria: \",asim_l22)\n",
    "print(\"Curtosis: \",curtos_l22)"
   ]
  },
  {
   "cell_type": "code",
   "execution_count": 291,
   "metadata": {},
   "outputs": [
    {
     "data": {
      "text/plain": [
       "[Text(0.5, 0, 'Nivel de potencia'), Text(0, 0.5, 'Muestras')]"
      ]
     },
     "execution_count": 291,
     "metadata": {},
     "output_type": "execute_result"
    },
    {
     "data": {
      "image/png": "[encoded data removed]",
      "text/plain": [
       "<Figure size 330x330 with 1 Axes>"
      ]
     },
     "metadata": {
      "needs_background": "light"
     },
     "output_type": "display_data"
    }
   ],
   "source": [
    "fig, ax = plt.subplots(1, 1,figsize=(11, 11),dpi=30)\n",
    "fig.suptitle('Gráficos estadísgrafos Geológicos') \n",
    "ax.hist(data2.Magnitud)\n",
    "ax.set_title('Magnitud')\n",
    "ax.set(xlabel='Nivel de potencia', ylabel='Muestras')"
   ]
  },
  {
   "cell_type": "markdown",
   "metadata": {},
   "source": [
    "## Resultados Comparativos"
   ]
  },
  {
   "cell_type": "code",
   "execution_count": 292,
   "metadata": {},
   "outputs": [],
   "source": [
    "def calculo_distancia(a,b,add):\n",
    "    rst = math.sqrt( (math.pow(a,2)+ math.pow(b,2))/2)\n",
    "    print(\"Existe una diferencia de: \",rst,\"\",add)"
   ]
  },
  {
   "cell_type": "markdown",
   "metadata": {},
   "source": [
    "#### Resultados respecto a la Profundidad en [km] = unidad de distancia kilómetros"
   ]
  },
  {
   "cell_type": "code",
   "execution_count": 293,
   "metadata": {},
   "outputs": [
    {
     "name": "stdout",
     "output_type": "stream",
     "text": [
      "Existe una diferencia de:  110.17287630191527  [km] en promedio de profundidad\n",
      "Existe una diferencia de:  720.9221158732694  [km] en Variabilidad de la profundidad\n",
      "Existe una diferencia de:  0.7590577225306249  [km] en Asimetría de la profundidad\n",
      "Existe una diferencia de:  1.8081948339765106  [km] en Forma(curtosis) de la profundidad\n"
     ]
    }
   ],
   "source": [
    "calculo_distancia(promedio_l11,promedio_l21,\"[km] en promedio de profundidad\")\n",
    "calculo_distancia(var_emp_l11,var_emp_l21,\"[km] en Variabilidad de la profundidad\")\n",
    "calculo_distancia(asim_l11,asim_l21,\"[km] en Asimetría de la profundidad\")\n",
    "calculo_distancia(curtos_l11,curtos_l21,\"[km] en Forma(curtosis) de la profundidad\")  "
   ]
  },
  {
   "cell_type": "markdown",
   "metadata": {},
   "source": [
    "#### Resultados respecto a la Magnitud en [uP] =  unidad de potencia"
   ]
  },
  {
   "cell_type": "code",
   "execution_count": 294,
   "metadata": {},
   "outputs": [
    {
     "name": "stdout",
     "output_type": "stream",
     "text": [
      "Existe una diferencia de:  4.747210352524309  [uP] en promedio de magnitud\n",
      "Existe una diferencia de:  0.2222726877445781  [uP] en Variabilidad de la magnitud\n",
      "Existe una diferencia de:  0.5306478519934978  [uP] en Asimetría de la magnitud\n",
      "Existe una diferencia de:  0.2982025490094192  [uP] en Forma(curtosis) de la magnitud\n"
     ]
    }
   ],
   "source": [
    "calculo_distancia(promedio_l12,promedio_l22,\"[uP] en promedio de magnitud\")\n",
    "calculo_distancia(var_emp_l12,var_emp_l22,\"[uP] en Variabilidad de la magnitud\")\n",
    "calculo_distancia(asim_l12,asim_l22,\"[uP] en Asimetría de la magnitud\")\n",
    "calculo_distancia(curtos_l12,curtos_l22,\"[uP] en Forma(curtosis) de la magnitud\")  "
   ]
  },
  {
   "cell_type": "markdown",
   "metadata": {},
   "source": [
    "### Conclusion"
   ]
  },
  {
   "cell_type": "markdown",
   "metadata": {},
   "source": [
    "Con respecto a la profundidad: \n",
    "- el estadígrafo de promedio, cual indica un valor de 110km de distancia aprox.\n",
    "- El estadígrafo de variabilidad, nos indica un valor de 11766km aprox.\n",
    "- Eñ estadígrafo de asimegría, nos indica un valor de 0.75[km] aprox.\n",
    "- El estadígrafo de curtosis, nos indica un valor de 1.808[km] aprox.\n",
    "\n",
    "Los eventos de las 2 regiones, nos podría decir que se ubica en una capa litosfera cercana a la atnosfera, cual puede deberse a algun desplazamiento de masa débil interior efectuando evento sismico hacia la supervicie considerando el promedio. En cuanto a la variabilidad, nos logra decir que estos eventos a pesar de estar focalizados, existen otros aislados que provienen de lo más profundo desde la mesosfera, que posiblemente sea a causa de reacciones en cadena. Por otro lado la asimetría son cercanas a la relacion a los eventos por su distancia cuales consta de una diferencia muy baja. Por su curtosis, nos indica que el desplazamiento de los datos se carga más hacia el lado izquierdo, esto nos indica que posiblemente los eventos son concentrados en una capa específica de la supericie terrestre, cual puede podría denominarse a la altura de los sectores coordilleranos"
   ]
  },
  {
   "cell_type": "markdown",
   "metadata": {},
   "source": [
    "Con respecto a la Magnitud:\n",
    "- El estadígrafo de promedio, cual indica un valor de 4,7[uP] aprox.\n",
    "- El estadígrafo de variabilidad, nos indica un valor de 0.22[uP] aprox.\n",
    "- El estadígrafo de asimetría, nos indica un valor de 0.55[uP] aprox.\n",
    "- El estadígrafo de curtosis, nos indica un valor de 0.22[uP] aprox.\n",
    "\n",
    "Los eventos en las 2 regiones, nos podría decir que en los sectores coordilleranos se atenua un nivel de potencia ligero según los datos de [1], indicando además un promedio de 6800 actividades al año, considerando las condiciones geográficas en las que se atenuan estos eventos. La variabilidad nos dice que dichos eventos se conservan dentro de la escala ligera, lo cual nos puede decir que dichas actividades no son parte de perturbaciones extremas. La asimetría nos indica que los valores a pesar de tener una estrecha relacion en valores, las actividades no se concentran un un valor específico debido que están granuladas dentro de una escala muy baja. La curtosis nos puede indicar que la concentración de los datos están ligados a estar mayormente orientados a actividades"
   ]
  },
  {
   "cell_type": "markdown",
   "metadata": {},
   "source": [
    "### Referencias\n",
    "\n",
    "[1] https://es.wikipedia.org/wiki/Escala_sismológica_de_Richter\n",
    "https://github.com/WillKoehrsen/Data-Analysis/blob/master/univariate_dist/Histogram%20and%20Density%20Plot.ipynb\n"
   ]
  }
 ],
 "metadata": {
  "kernelspec": {
   "display_name": "Python 3 (ipykernel)",
   "language": "python",
   "name": "python3"
  },
  "language_info": {
   "codemirror_mode": {
    "name": "ipython",
    "version": 3
   },
   "file_extension": ".py",
   "mimetype": "text/x-python",
   "name": "python",
   "nbconvert_exporter": "python",
   "pygments_lexer": "ipython3",
   "version": "3.9.6"
  }
 },
 "nbformat": 4,
 "nbformat_minor": 2
}
