{
 "cells": [
  {
   "cell_type": "markdown",
   "metadata": {},
   "source": [
    "# SIMULACIÓN | LABORATORIO 4\n"
   ]
  },
  {
   "cell_type": "markdown",
   "metadata": {},
   "source": [
    "## Generación de número pseudo-aleatorios"
   ]
  },
  {
   "cell_type": "code",
   "execution_count": 1,
   "metadata": {},
   "outputs": [],
   "source": [
    "import numpy as np\n",
    "import matplotlib.pyplot as plt\n",
    "import pandas as pd\n",
    "import seaborn as sns\n",
    "import scipy \n",
    "from IPython.display import display\n",
    "import ipywidgets as widgets\n",
    "import random"
   ]
  },
  {
   "cell_type": "markdown",
   "metadata": {},
   "source": [
    "### El módulo Random de python \n"
   ]
  },
  {
   "cell_type": "markdown",
   "metadata": {},
   "source": [
    "**Ejercicio 1:**"
   ]
  },
  {
   "cell_type": "markdown",
   "metadata": {},
   "source": [
    "1.1 Defina lo que es una semilla y para qué sirve"
   ]
  },
  {
   "cell_type": "markdown",
   "metadata": {},
   "source": [
    "__R:__ La semilla es un valor que se utiliza para generar números aleatorios.\n",
    "\n",
    "Es utilizada ya que la generación de números aleatorios en Python utiliza una distribución llamada Mersenne Twister; y esta necesita de un y esta utliza la semilla como generador principal. En el caso de Python, si no se establece una semilla, esta será realizada utilizando la hora del sistema como referencia [1]."
   ]
  },
  {
   "cell_type": "markdown",
   "metadata": {},
   "source": [
    "1.2 use random.random() para generar números aleatorios. "
   ]
  },
  {
   "cell_type": "code",
   "execution_count": 3,
   "metadata": {},
   "outputs": [
    {
     "data": {
      "text/plain": [
       "0.5426328817137805"
      ]
     },
     "execution_count": 3,
     "metadata": {},
     "output_type": "execute_result"
    }
   ],
   "source": [
    "random.random()"
   ]
  },
  {
   "cell_type": "markdown",
   "metadata": {},
   "source": [
    "1.3 use una semilla con random.seed(semilla), y vuelva a ejecutar random.random()"
   ]
  },
  {
   "cell_type": "code",
   "execution_count": 4,
   "metadata": {},
   "outputs": [
    {
     "data": {
      "text/plain": [
       "0.23604808973743452"
      ]
     },
     "execution_count": 4,
     "metadata": {},
     "output_type": "execute_result"
    }
   ],
   "source": [
    "random.seed(4)\n",
    "random.random()"
   ]
  },
  {
   "cell_type": "markdown",
   "metadata": {},
   "source": [
    "1.4 ¿qué ocurre si vuelve a definir la misma semilla y ejecutar random.random()?"
   ]
  },
  {
   "cell_type": "code",
   "execution_count": 5,
   "metadata": {},
   "outputs": [
    {
     "data": {
      "text/plain": [
       "0.23604808973743452"
      ]
     },
     "execution_count": 5,
     "metadata": {},
     "output_type": "execute_result"
    }
   ],
   "source": [
    "random.seed(4)\n",
    "random.random()"
   ]
  },
  {
   "cell_type": "markdown",
   "metadata": {},
   "source": [
    "__R:__ Al utilizarse la misma semilla, se genera el mismo número aleatorio.\n",
    "\n",
    "Esto se debe a que la distribución tiene el mismo valor con el número dado."
   ]
  },
  {
   "cell_type": "markdown",
   "metadata": {},
   "source": [
    "**Ejercicio 2:**\n",
    "Pruebe las funciones y defina sus diferencias:\n",
    "\n",
    "    - random.randint(a, b)\n",
    "    - random.randrange(a, b)\n",
    "    - random.uniform(a, b)\n",
    "    "
   ]
  },
  {
   "cell_type": "code",
   "execution_count": 6,
   "metadata": {},
   "outputs": [],
   "source": [
    "def generagraficos():\n",
    "    a,b,x,y,z=1,10,[],[],[]\n",
    "    intervalos = range(a, b) \n",
    "    for i in range (1,1000):\n",
    "        n=random.randint(a,b)\n",
    "        x.append(n)\n",
    "        n=random.randrange(a,b)\n",
    "        y.append(n)\n",
    "        n=random.uniform(a,b)\n",
    "        z.append(n)\n",
    "\n",
    "    fig, ax = plt.subplots(1, 3, figsize=(20, 4), dpi=80)\n",
    "        \n",
    "    ax[0].hist(x, bins=intervalos, rwidth=0.85)\n",
    "    ax[0].set_title('Función: randint')\n",
    "    ax[0].set(xlabel='Números', ylabel='Frecuencia')\n",
    "\n",
    "    ax[1].hist(y, bins=intervalos, rwidth=0.85)\n",
    "    ax[1].set_title('Función: randrange')\n",
    "    ax[1].set(xlabel='Números', ylabel='Frecuencia')\n",
    "\n",
    "    ax[2].hist(z, bins=intervalos, rwidth=0.85)\n",
    "    ax[2].set_title('Función: uniform')\n",
    "    ax[2].set(xlabel='Números', ylabel='Frecuencia')\n",
    "    plt.show()"
   ]
  },
  {
   "cell_type": "code",
   "execution_count": 119,
   "metadata": {
    "scrolled": false
   },
   "outputs": [
    {
     "data": {
      "image/png": "[encoded data removed]",
      "text/plain": [
       "<Figure size 1600x320 with 3 Axes>"
      ]
     },
     "metadata": {},
     "output_type": "display_data"
    }
   ],
   "source": [
    "a,b = 10,20\n",
    "x1=[]\n",
    "x2=[]\n",
    "x3=[]\n",
    "intervalos = range(a,b+2)\n",
    "for i in range (1,100000):\n",
    "    x1.append(random.randint(a,b))\n",
    "    x2.append(random.randrange(a, b))\n",
    "    x3.append(random.uniform(a, b))\n",
    "        \n",
    "fig, ax = plt.subplots(1, 3, figsize=(20, 4), dpi=80)\n",
    "\n",
    "ax[0].hist(x1, bins=intervalos, rwidth=0.85, color = 'palegreen',edgecolor = 'black')\n",
    "ax[0].set_title('Función random.randint(a, b)')\n",
    "ax[0].set(xlabel='numeros', ylabel='Frecuencia')\n",
    "\n",
    "ax[1].hist(x2, bins=range(min(x2), max(x2) + 2), rwidth=0.85,color='palegreen',edgecolor = 'black')\n",
    "ax[1].set_title('Función random.randrange(a, b)',)\n",
    "ax[1].set(xlabel='numeros', ylabel='Frecuencia')\n",
    "\n",
    "ax[2].hist(x3, bins=intervalos, rwidth=0.85, color='palegreen',edgecolor = 'black')\n",
    "ax[2].set_title('Función random.uniform(a, b)')\n",
    "ax[2].set(xlabel='numeros', ylabel='Frecuencia')\n",
    "\n",
    "random.uniform(a, b)\n",
    "plt.show()"
   ]
  },
  {
   "cell_type": "markdown",
   "metadata": {},
   "source": [
    "* La función random.randint(a,b), devuelve un entero aleatorio en el rango [a, b], ambos incluidos. a debe ser inferior o igual a b.\n",
    "\n",
    "* La función random.randrange(a, b), genera numeros pseudoaleatorios. Genera un número entero entre los valores generados por range a y b, pero sin incluir el b.\n",
    "\n",
    "* La función random.uniform(a,b) devuelve un número aleatorio en el rango [a, b] extraído de una distribución uniforme. Genera un número decimal entre a y b (puede generar a, debido a la forma de redondear de Python, puede que genere b o no)."
   ]
  },
  {
   "cell_type": "markdown",
   "metadata": {},
   "source": [
    "### Clase NotSoRandom:"
   ]
  },
  {
   "cell_type": "code",
   "execution_count": 8,
   "metadata": {},
   "outputs": [],
   "source": [
    "class NotSoRandom(object):\n",
    "    def seed(self, a=3):\n",
    "        \"\"\"Seed the world's most mysterious random number generator.\"\"\"\n",
    "        self.seedval = a\n",
    "    def random(self):\n",
    "        \"\"\"Look, random numbers!\"\"\"\n",
    "        self.seedval = (self.seedval * 3) % 19\n",
    "        return self.seedval\n",
    "\n",
    "_inst = NotSoRandom()\n",
    "seed = _inst.seed\n",
    "random = _inst.random\n"
   ]
  },
  {
   "cell_type": "markdown",
   "metadata": {},
   "source": [
    "**Ejercicio 3:**"
   ]
  },
  {
   "cell_type": "markdown",
   "metadata": {},
   "source": [
    "3.1 Use la semilla 1234 y genere números aleatorios hasta que se cumpla un ciclo completo. ¿Cuál resultó ser el periodo?"
   ]
  },
  {
   "cell_type": "markdown",
   "metadata": {},
   "source": [
    "Para este ejercicio se utilizaron dos formas de obtener el periodo:"
   ]
  },
  {
   "cell_type": "markdown",
   "metadata": {},
   "source": [
    "i) El primero consiste en iterar con un for ampliando el valor del rango manualmente hasta llegar a la cantidad de iteraciones"
   ]
  },
  {
   "cell_type": "code",
   "execution_count": 68,
   "metadata": {},
   "outputs": [
    {
     "data": {
      "text/plain": [
       "[16, 10, 11, 14, 4, 12, 17, 13, 1, 3, 9, 8, 5, 15, 7, 2, 6, 18, 16]"
      ]
     },
     "execution_count": 68,
     "metadata": {},
     "output_type": "execute_result"
    }
   ],
   "source": [
    "seed(1234)\n",
    "[random() for _ in range(19)]"
   ]
  },
  {
   "cell_type": "markdown",
   "metadata": {},
   "source": [
    "ii) El segundo consiste en utilizar un while para buscar cuándo se volverá a repetir el valor iniciar"
   ]
  },
  {
   "cell_type": "code",
   "execution_count": 65,
   "metadata": {},
   "outputs": [
    {
     "name": "stdout",
     "output_type": "stream",
     "text": [
      "La cantidad de iteraciones es: 18\n"
     ]
    }
   ],
   "source": [
    "seed(1234) #Se establece la semilla\n",
    "x = random() # Primer número aleatorio\n",
    "y = random() # Segundo número aleatorio\n",
    "n = 1\n",
    "while(y != x):\n",
    "    n+=1\n",
    "    y = random()\n",
    "print(\"La cantidad de iteraciones es:\",n)"
   ]
  },
  {
   "cell_type": "markdown",
   "metadata": {},
   "source": [
    "__R__: Se puede concluir que el periodo es 18"
   ]
  },
  {
   "cell_type": "markdown",
   "metadata": {},
   "source": [
    "3.2 Intente con otra semilla y busque completar un ciclo. Comente."
   ]
  },
  {
   "cell_type": "markdown",
   "metadata": {},
   "source": [
    "Con ii) en mente, se prefirió realizar una función para poder obtener el periodo de cualquier semilla"
   ]
  },
  {
   "cell_type": "code",
   "execution_count": 66,
   "metadata": {},
   "outputs": [],
   "source": [
    "def iteraciones(semilla):\n",
    "    seed(semilla)\n",
    "    numero_base = random()\n",
    "    numero_siguiente = random()\n",
    "    i = 1\n",
    "    while(numero_base != numero_siguiente):\n",
    "        numero_siguiente = random()\n",
    "        i+=1\n",
    "    return i"
   ]
  },
  {
   "cell_type": "markdown",
   "metadata": {},
   "source": [
    "Se decidió calcular la semilla de los primeros 20 números para ver cuántas iteraciones requiere cada uno"
   ]
  },
  {
   "cell_type": "code",
   "execution_count": 67,
   "metadata": {},
   "outputs": [
    {
     "data": {
      "text/plain": [
       "[1, 18, 18, 18, 18, 18, 18, 18, 18, 18, 18, 18, 18, 18, 18, 18, 18, 18, 18, 1]"
      ]
     },
     "execution_count": 67,
     "metadata": {},
     "output_type": "execute_result"
    }
   ],
   "source": [
    "[iteraciones(i) for i in range(20)]"
   ]
  },
  {
   "cell_type": "markdown",
   "metadata": {},
   "source": [
    "__R:__ Como se puede apreciar, la cantidad de iteraciones para realizar un ciclo es de 18.\n",
    "\n",
    "Cabe destacar que por cada múltiplo de 19, el número resultado del número aleatorio será 0, ya que la fórmula para generar el número aleatorio utiliza el módulo de 19, el cuál siempre será 0 en ese número y en sus múltiplos."
   ]
  },
  {
   "cell_type": "markdown",
   "metadata": {},
   "source": [
    "#### **Ejercicio 4:**\n",
    "En este ejercicio vamos a comparar el generador de la biblioteca Random de Python con el generador de números pseudo-aleatorios congruencial lineal descrito en la sesión téórica. Para ello se pide lo siguiente:\n",
    "1. Programe el generador de números pseudo-aleatorios congruencial lineal \n"
   ]
  },
  {
   "cell_type": "code",
   "execution_count": 2,
   "metadata": {},
   "outputs": [],
   "source": [
    "class GCL():\n",
    "    def __init__(self, seed=345):\n",
    "        self.u = seed\n",
    "    def next(self):\n",
    "        self.u = (16807*self.u)%2147483647\n",
    "        return self.u/2147483647"
   ]
  },
  {
   "cell_type": "markdown",
   "metadata": {},
   "source": [
    "2. Extraiga secuencias del generador programado y del predefinido en Python, grafique en histogramas, compare y concluya."
   ]
  },
  {
   "cell_type": "code",
   "execution_count": 3,
   "metadata": {},
   "outputs": [
    {
     "data": {
      "image/png": "[encoded data removed]",
      "text/plain": [
       "<Figure size 800x240 with 2 Axes>"
      ]
     },
     "metadata": {},
     "output_type": "display_data"
    }
   ],
   "source": [
    "n = GCL()\n",
    "n.next()\n",
    "x1 = []\n",
    "x2 = []\n",
    "random.seed(345)\n",
    "for i in range(10000):\n",
    "    x1.append(n.next())\n",
    "    x2.append(random.random())\n",
    "fig, ax = plt.subplots(1, 2, figsize=(10, 3), dpi=80)\n",
    "ax[0].hist(x1, color = 'palegreen', edgecolor = 'black', bins = 15)\n",
    "ax[0].set_title('Generador Congruencia Lineal')\n",
    "ax[1].hist(x2, color = 'palegreen', edgecolor = 'black', bins = 15)\n",
    "ax[1].set_title('Generador Random Predefinido')\n",
    "plt.show()"
   ]
  },
  {
   "cell_type": "markdown",
   "metadata": {},
   "source": [
    "Como se observa en los histogramas, se puede concluir que ambos generadores producen valores bastante uniformes, no iguales, pero con resultados similares."
   ]
  },
  {
   "cell_type": "markdown",
   "metadata": {},
   "source": [
    "#### **Ejercicio 5:**\n",
    "Escoja una distribución de probabilidad continua.\n",
    "1. Utilice un método predefinido en Python para generar una secuencia de valores pseudo-aleatorios provenientes de dicha distribución\n",
    "2. Genere una secuencia considerando el algoritmo de la transformada inversa.\n",
    "3. Grafique en histogramas y compare las secuencias en (1) y (2) utilizando el test de k-s"
   ]
  },
  {
   "cell_type": "markdown",
   "metadata": {},
   "source": [
    "#### **Ejercicio 6:**\n",
    "Escoja una distribución de probabilidad discreta.\n",
    "1. Utilice un método predefinido en Python para generar una secuencia de valores pseudo-aleatorios provenientes de dicha distribución\n",
    "2. Genere una secuencia considerando el algoritmo de la transformada inversa.\n",
    "3. Grafique en histogramas y compare las secuencias en (1) y (2). ¿Qué test sería adecuado utilizar en este caso?"
   ]
  },
  {
   "cell_type": "markdown",
   "metadata": {},
   "source": [
    "**Referencias:**\n",
    "    \n",
    "- Generating Random Data in Python (Guide): https://realpython.com/python-random/\n",
    "\n",
    "- Generación de números pseudo-aleatorios: https://www.youtube.com/watch?v=C82JyCmtKWg"
   ]
  },
  {
   "cell_type": "markdown",
   "metadata": {},
   "source": [
    "__Bibliografía:__\n",
    "\n",
    "[1] https://docs.python.org/es/3/library/random.html"
   ]
  },
  {
   "cell_type": "code",
   "execution_count": null,
   "metadata": {},
   "outputs": [],
   "source": []
  }
 ],
 "metadata": {
  "kernelspec": {
   "display_name": "Python 3",
   "language": "python",
   "name": "python3"
  },
  "language_info": {
   "codemirror_mode": {
    "name": "ipython",
    "version": 3
   },
   "file_extension": ".py",
   "mimetype": "text/x-python",
   "name": "python",
   "nbconvert_exporter": "python",
   "pygments_lexer": "ipython3",
   "version": "3.9.6"
  }
 },
 "nbformat": 4,
 "nbformat_minor": 2
}
